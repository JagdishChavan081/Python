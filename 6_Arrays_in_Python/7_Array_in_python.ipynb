{
 "metadata": {
  "language_info": {
   "codemirror_mode": {
    "name": "ipython",
    "version": 3
   },
   "file_extension": ".py",
   "mimetype": "text/x-python",
   "name": "python",
   "nbconvert_exporter": "python",
   "pygments_lexer": "ipython3",
   "version": "3.8.5"
  },
  "orig_nbformat": 2,
  "kernelspec": {
   "name": "python385jvsc74a57bd0916dbcbb3f70747c44a77c7bcd40155683ae19c65e1c03b4aa3499c5328201f1",
   "display_name": "Python 3.8.5 64-bit"
  },
  "metadata": {
   "interpreter": {
    "hash": "916dbcbb3f70747c44a77c7bcd40155683ae19c65e1c03b4aa3499c5328201f1"
   }
  }
 },
 "nbformat": 4,
 "nbformat_minor": 2,
 "cells": [
  {
   "source": [
    "\n",
    "<center><h1>ARRAYS IN PYTHON<h1></center>\n",
    "\n",
    "* Notes By Jagdish Chavan\n",
    "* For Code and Projects follow on [Github](https://github.com/JagdishChavan081)|[Linkedin](https://www.linkedin.com/in/jagdishchavan)"
   ],
   "cell_type": "markdown",
   "metadata": {}
  },
  {
   "source": [
    "## WHat Is an Array?\n",
    "* An array is an object that stores a group of elements(or values) of same datatype.\n",
    "* it Stores and process a group of elements easily.\n",
    "* Note\n",
    "    Arrays can store only one type of data.\n",
    "    Arrays can increase or decrease their size dynamically\n",
    "\n",
    "* In Python there is a standard module by the name 'array' that helps us to create and use array.\n",
    "\n",
    "\n",
    "## Advantages of Arrays\n",
    "* Array are similar to list main difference is array is homogenious in nature which plays as upper hand role when dealing with huge number of elements as it uses less memory than list anf they offer faster execution than list .\n",
    "* Size of an array is not fixed in Python, depends on our specifications how many elements we want to store in the beginning.\n",
    "* Array can grow and shrink memory dynamically.\n",
    "* many methods are availabe in array module itself for processing of data.\n",
    "\n",
    "## Creating an Array\n",
    "\n",
    "* **syntax:- arrayname = array(type code, [elements])**\n",
    "* type code is nothing but type of elements we are going to store in array, where elements is just data that we want to store.\n"
   ],
   "cell_type": "markdown",
   "metadata": {}
  },
  {
   "source": [
    "**Table 1: The type code to create arrays**\n",
    "\n",
    "| Type code |               Ctype              | Minimum size in bytes |\n",
    "|:---------:|:--------------------------------:|:---------------------:|\n",
    "|    'b'    |          signed integer          |           1           |\n",
    "|    'B'    |         unsigned integer         |           1           |\n",
    "|    'i'    |          signed integer          |           2           |\n",
    "|    'I'    |         unsigned integer         |           2           |\n",
    "|    'l'    |          signed integer          |           4           |\n",
    "|    'L'    |         unsigned integer         |           4           |\n",
    "|    'f'    |          floating point          |           4           |\n",
    "|    'd'    | double precision  floating point |           8           |\n",
    "|    'u'    |         unicode character        |           2           |"
   ],
   "cell_type": "markdown",
   "metadata": {}
  },
  {
   "source": [
    "# Write a Python program to create an integer type array and check its type\n",
    "\n",
    "from array import *\n",
    "a = array('i',[1,2,3,4])\n",
    "print(type(a))\n",
    "\n",
    "for element in a:\n",
    "    print(element,end='')\n",
    "\n"
   ],
   "cell_type": "code",
   "metadata": {},
   "execution_count": 45,
   "outputs": [
    {
     "output_type": "stream",
     "name": "stdout",
     "text": [
      "<class 'array.array'>\n1234"
     ]
    }
   ]
  },
  {
   "cell_type": "code",
   "execution_count": 49,
   "metadata": {},
   "outputs": [
    {
     "output_type": "stream",
     "name": "stdout",
     "text": [
      "<class 'array.array'>\n1234"
     ]
    }
   ],
   "source": [
    "# Write a Python program to create an integer type array and check its type\n",
    "\n",
    "import array\n",
    "\n",
    "a = array.array('i',[1,2,3,4])\n",
    "print(type(a))\n",
    "\n",
    "for element in a:\n",
    "    print(element,end='')"
   ]
  },
  {
   "cell_type": "code",
   "execution_count": 53,
   "metadata": {},
   "outputs": [
    {
     "output_type": "stream",
     "name": "stdout",
     "text": [
      "array element a is of type <class 'str'>\narray element b is of type <class 'str'>\narray element c is of type <class 'str'>\narray element d is of type <class 'str'>\narray element e is of type <class 'str'>\n"
     ]
    }
   ],
   "source": [
    "# write a python program to create an array with group of characters. \n",
    "\n",
    "from array import *\n",
    "\n",
    "arr = array('u',['a','b','c','d','e'])\n",
    "\n",
    "for element in arr:\n",
    "    print('array element {} is of type {}'.format(element, type(element)))"
   ]
  },
  {
   "source": [
    "## Creating one Array from another Array\n",
    "\n",
    "** syntax:- arr2 = array(arr1.typecode,(a for a in arr1))**\n",
    "* **arr1.typecode** gives typecode character of arr1"
   ],
   "cell_type": "markdown",
   "metadata": {}
  },
  {
   "cell_type": "code",
   "execution_count": 57,
   "metadata": {},
   "outputs": [
    {
     "output_type": "stream",
     "name": "stdout",
     "text": [
      "9.42,2.88,9.72,12.0,"
     ]
    }
   ],
   "source": [
    "# write a Python program to create one array from another array.  \n",
    "\n",
    "from array import *\n",
    "\n",
    "arr1 = array('d',[3.14,0.96,3.24,4])\n",
    "\n",
    "arr2 = array(arr1.typecode,(a*3 for a in arr1))\n",
    "for i in arr2:\n",
    "    print(i, end=',')\n"
   ]
  },
  {
   "source": [
    "## Indexing and Slicing on Arrays"
   ],
   "cell_type": "markdown",
   "metadata": {}
  },
  {
   "source": [
    "# Writew a Python program to retrive the elements of an array using array index.\n",
    "\n",
    "from array import *\n",
    "x = array('i',[10,20,30,40,50])\n",
    "\n",
    "#find number of elements in the array\n",
    "n = len(x)\n",
    "\n",
    "#display array elements using inexing\n",
    "for i in range(n):\n",
    "    print(x[i], end=',')"
   ],
   "cell_type": "code",
   "metadata": {},
   "execution_count": 61,
   "outputs": [
    {
     "output_type": "stream",
     "name": "stdout",
     "text": [
      "10,20,30,40,50,"
     ]
    }
   ]
  },
  {
   "cell_type": "code",
   "execution_count": 65,
   "metadata": {},
   "outputs": [
    {
     "output_type": "stream",
     "name": "stdout",
     "text": [
      "10,20,30,40,50,"
     ]
    }
   ],
   "source": [
    "#Write a Python program to retrive elements of an array using while loop\n",
    "from array import *\n",
    "\n",
    "x = array('i',[10,20,30,40,50])\n",
    "n = len(x)\n",
    "\n",
    "#display array element using indexing\n",
    "i=0\n",
    "while i<n:\n",
    "    print(x[i], end=',')\n",
    "    i+=1"
   ]
  },
  {
   "cell_type": "code",
   "execution_count": 69,
   "metadata": {},
   "outputs": [
    {
     "output_type": "stream",
     "name": "stdout",
     "text": [
      "y= array('i', [20, 30, 40])\n",
      "z= array('i', [10, 20, 30, 40, 50])\n",
      "a= array('i', [20, 30, 40, 50])\n"
     ]
    }
   ],
   "source": [
    "#write a python program that helps to know the effects of slicing operations on an array\n",
    "\n",
    "from array import *\n",
    "\n",
    "x = array('i',(10,20,30,40,50))\n",
    "\n",
    "y=x[1:4]\n",
    "print('y=',y)\n",
    "\n",
    "#create array y with elements from 0th till the last element in x\n",
    "z = x[0:]\n",
    "print('z=',z)\n",
    "\n",
    "\n",
    "#creta an array with last 4 elements \n",
    "a=x[-4:]\n",
    "print('a=',a)"
   ]
  },
  {
   "source": [
    "## Processing the array\n",
    "\n",
    "* arrays class of arrays module offers methods to process the array easily.\n",
    "\n",
    "* **syntax:- objectname.method()**"
   ],
   "cell_type": "markdown",
   "metadata": {}
  },
  {
   "source": [
    "**a.append(x)**: Adds an element x at the end of the existing array a."
   ],
   "cell_type": "markdown",
   "metadata": {}
  },
  {
   "cell_type": "code",
   "execution_count": null,
   "metadata": {},
   "outputs": [],
   "source": [
    "from array import *\n",
    "\n",
    "a = array('i',[10,20,30,40,50])\n",
    "print('original array a = ',a)\n",
    "\n",
    "#append element in a \n",
    "a.append(30)\n",
    "a.append(4)\n",
    "print('\\nafter appending a = :',a)"
   ]
  },
  {
   "source": [
    "**a.insert(i,x)**: Inserrt x in the position i in the array."
   ],
   "cell_type": "markdown",
   "metadata": {}
  },
  {
   "cell_type": "code",
   "execution_count": 38,
   "metadata": {},
   "outputs": [
    {
     "output_type": "stream",
     "name": "stdout",
     "text": [
      "original array a =  array('i', [10, 20, 30, 40, 50])\n\nafter inserting a = : array('i', [10, 99, 20, 30, 40, 50])\n"
     ]
    }
   ],
   "source": [
    "from array import *\n",
    "\n",
    "a = array('i',[10,20,30,40,50])\n",
    "print('original array a = ',a)\n",
    "\n",
    "#insert element in a \n",
    "a.insert(1,99)\n",
    "\n",
    "print('\\nafter inserting a = :',a)"
   ]
  },
  {
   "source": [
    "**a.count()**: Returns the number of occurance of x in a "
   ],
   "cell_type": "markdown",
   "metadata": {}
  },
  {
   "cell_type": "code",
   "execution_count": 41,
   "metadata": {},
   "outputs": [
    {
     "output_type": "stream",
     "name": "stdout",
     "text": [
      "original array a =  array('i', [10, 20, 30, 40, 50, 10, 20, 30, 55])\n\nafter counting  10 in a = : 2\n"
     ]
    }
   ],
   "source": [
    "from array import *\n",
    "\n",
    "a = array('i',[10,20,30,40,50,10,20,30,55])\n",
    "print('original array a = ',a)\n",
    "\n",
    "#count element\n",
    "n = a.count(10)\n",
    "\n",
    "print('\\nafter counting  10 in a = :',n)"
   ]
  },
  {
   "source": [
    "**a.extend(x)**: Appends x at the end of the array a.'x' can be another array or an itterable object."
   ],
   "cell_type": "markdown",
   "metadata": {}
  },
  {
   "cell_type": "code",
   "execution_count": 44,
   "metadata": {},
   "outputs": [
    {
     "output_type": "stream",
     "name": "stdout",
     "text": [
      "array('i', [10, 20, 30, 40, 50, 1, 2, 3])\n"
     ]
    }
   ],
   "source": [
    "from array import *\n",
    "a = array('i',[10,20,30,40,50])\n",
    "x= [1,2,3]\n",
    "\n",
    "a.extend(x)\n",
    "print(a)"
   ]
  },
  {
   "source": [
    "**a.remove(x)**: Removes the first occurance of x in the array a. Raises value error if not found."
   ],
   "cell_type": "markdown",
   "metadata": {}
  },
  {
   "cell_type": "code",
   "execution_count": 48,
   "metadata": {},
   "outputs": [
    {
     "output_type": "stream",
     "name": "stdout",
     "text": [
      "original array a =  array('i', [10, 20, 30, 40, 50])\n\nafter removing a = : array('i', [10, 30, 40, 50])\n"
     ]
    }
   ],
   "source": [
    "from array import *\n",
    "\n",
    "a = array('i',[10,20,30,40,50])\n",
    "print('original array a = ',a)\n",
    "\n",
    "#remove element in a \n",
    "a.remove(20)\n",
    "\n",
    "print('\\nafter removing a = :',a)"
   ]
  },
  {
   "source": [
    "**a.pop()**: remove last element using pop() method."
   ],
   "cell_type": "markdown",
   "metadata": {}
  },
  {
   "cell_type": "code",
   "execution_count": 52,
   "metadata": {},
   "outputs": [
    {
     "output_type": "stream",
     "name": "stdout",
     "text": [
      "original array a =  array('i', [10, 20, 30, 40, 50])\n\nafter popping a = : array('i', [10, 20, 30, 40])\n"
     ]
    }
   ],
   "source": [
    "from array import *\n",
    "\n",
    "a = array('i',[10,20,30,40,50])\n",
    "print('original array a = ',a)\n",
    "\n",
    "#remove the last element in a \n",
    "a.pop()\n",
    "\n",
    "print('\\nafter popping a = :',a)"
   ]
  },
  {
   "source": [
    "**a.pop(x):** based on index position element get poped."
   ],
   "cell_type": "markdown",
   "metadata": {}
  },
  {
   "cell_type": "code",
   "execution_count": 56,
   "metadata": {},
   "outputs": [
    {
     "output_type": "stream",
     "name": "stdout",
     "text": [
      "original array a =  array('i', [10, 20, 30, 40, 50])\n\nafter popping a = : array('i', [10, 20, 40, 50])\n"
     ]
    }
   ],
   "source": [
    "from array import *\n",
    "\n",
    "a = array('i',[10,20,30,40,50])\n",
    "print('original array a = ',a)\n",
    "\n",
    "#remove the last element in a \n",
    "a.pop(2)\n",
    "\n",
    "print('\\nafter popping a = :',a)"
   ]
  },
  {
   "source": [
    "**a.index()**: finding position of element using index() method.\n"
   ],
   "cell_type": "markdown",
   "metadata": {}
  },
  {
   "cell_type": "code",
   "execution_count": 60,
   "metadata": {},
   "outputs": [
    {
     "output_type": "stream",
     "name": "stdout",
     "text": [
      "original array a =  array('i', [10, 20, 30, 40, 50, 30])\nfirst occurance of 30 is at index position  2\n"
     ]
    }
   ],
   "source": [
    "from array import *\n",
    "\n",
    "a = array('i',[10,20,30,40,50,30])\n",
    "print('original array a = ',a)\n",
    "\n",
    "#finding position of element\n",
    "n = a.index(30)\n",
    "print('first occurance of 30 is at index position ',n)"
   ]
  },
  {
   "source": [
    "**a.tolist()**: Converts the array 'a' into a list.\n",
    "\n"
   ],
   "cell_type": "markdown",
   "metadata": {}
  },
  {
   "cell_type": "code",
   "execution_count": 64,
   "metadata": {},
   "outputs": [
    {
     "output_type": "stream",
     "name": "stdout",
     "text": [
      "original array a =  array('i', [10, 20, 30, 40, 50, 30])\n[10, 20, 30, 40, 50, 30]\n<class 'list'>\n"
     ]
    }
   ],
   "source": [
    "from array import *\n",
    "\n",
    "a = array('i',[10,20,30,40,50,30])\n",
    "print('original array a = ',a)\n",
    "\n",
    "\n",
    "#converting array to list\n",
    "lst = a.tolist()\n",
    "print(lst)\n",
    "print(type(lst))"
   ]
  },
  {
   "source": [
    "** a.reverse**: Reverse the order of elements in the array a."
   ],
   "cell_type": "markdown",
   "metadata": {}
  },
  {
   "cell_type": "code",
   "execution_count": 68,
   "metadata": {},
   "outputs": [
    {
     "output_type": "stream",
     "name": "stdout",
     "text": [
      "After reversing Array: array('i', [55, 44, 33, 22, 11])\n<class 'array.array'>\n"
     ]
    }
   ],
   "source": [
    "from array import *\n",
    "\n",
    "#The original array\n",
    "arr = [11, 22, 33, 44, 55]\n",
    "a = array('i',arr)\n",
    "\n",
    "a.reverse() #reversing using reverse()\n",
    "print(\"After reversing Array:\",a)\n",
    "print(type(a))"
   ]
  },
  {
   "source": [
    "**a.fromlist(lst)**: Append item form the lst to the end of the array.'lst' can be any list or iterable object"
   ],
   "cell_type": "markdown",
   "metadata": {}
  },
  {
   "cell_type": "code",
   "execution_count": null,
   "metadata": {},
   "outputs": [],
   "source": [
    "from array import *\n",
    "\n",
    "lst = [1,2,3,5,8]\n",
    "\n",
    "a = array('i',[10,20,30,40,50,30])\n",
    "\n",
    "a.fromlist(lst)\n",
    "print(a)\n"
   ]
  },
  {
   "cell_type": "code",
   "execution_count": 67,
   "metadata": {},
   "outputs": [
    {
     "output_type": "stream",
     "name": "stdout",
     "text": [
      "array('i', [1, 2, 3])\n"
     ]
    }
   ],
   "source": [
    "import array\n",
    "f = open(\"f.bin\", \"wb\")\n",
    "array.array(\"i\", [1, 2, 3]).tofile(f)\n",
    "f.close()\n",
    "\n",
    "ints = array.array(\"i\")\n",
    "f = open(\"f.bin\", \"rb\")\n",
    "ints.fromfile(f, 3)\n",
    "print (ints)"
   ]
  },
  {
   "cell_type": "code",
   "execution_count": null,
   "metadata": {},
   "outputs": [],
   "source": [
    "# Write a Python Program to storing students marks into an array and finding total marks and percentage of marks\n",
    "\n",
    "from array import *\n",
    "\n",
    "str = input('Enter marks:').split(' ')\n",
    "\n",
    "#store marks into mark array\n",
    "marks = [int(num) for num in str]\n",
    "\n",
    "#display the marks and find total\n",
    "sum = 0\n",
    "for x in marks:\n",
    "    print(x)\n",
    "    sum+=x\n",
    "print('total marks:',sum)\n",
    "\n",
    "#display th epercentage\n",
    "n = len(marks)\n",
    "percentage = sum/n\n",
    "print('percentage:',percentage)"
   ]
  },
  {
   "source": [
    "# write a python program to sort the array elements using bubble sort technique.\n",
    "\n",
    "from array import *\n",
    "\n",
    "x = array('i',[])\n",
    "\n",
    "#storing the element\n",
    "print('how many elements?', end='')\n",
    "n= int(input())\n",
    "\n",
    "for i in range(n):\n",
    "    print('\\nenter the element',end ='')\n",
    "    x.append(int(input()))\n",
    "\n",
    "print('\\norigianl array:',x)\n",
    "\n",
    "\n",
    "#Bubble sort\n",
    "flag = False\n",
    "for i in range(n-1):\n",
    "    for j in range(n-1-i):\n",
    "        if x[j]>x[j+1]:\n",
    "            t=x[j]\n",
    "            x[j]=x[j+1]\n",
    "            x[j+1]=t\n",
    "            flag = True\n",
    "    if flag ==False:\n",
    "        break\n",
    "    else:\n",
    "        flag=False\n",
    "print('sorted array = ',x)\n"
   ],
   "cell_type": "code",
   "metadata": {},
   "execution_count": 46,
   "outputs": [
    {
     "output_type": "stream",
     "name": "stdout",
     "text": [
      "how many elements?\n",
      "enter the element\n",
      "origianl array: array('i', [2])\n",
      "sorted array =  array('i', [2])\n"
     ]
    }
   ]
  },
  {
   "cell_type": "code",
   "execution_count": 50,
   "metadata": {},
   "outputs": [
    {
     "output_type": "stream",
     "name": "stdout",
     "text": [
      "How many element?\n",
      "Enter element\n",
      "Enter element\n",
      "Enter element\n",
      "Origianl array array('i', [4, 5, 2])\n",
      "\n",
      "Enter the element to searchNot found in array\n"
     ]
    }
   ],
   "source": [
    "# Write a Python program to search for the position of an element in an array using sequential search. \n",
    "\n",
    "from array import *\n",
    "\n",
    "#create a empty array\n",
    "x = array('i',[])\n",
    "\n",
    "#store the lement into array\n",
    "print('How many element?', end = '')\n",
    "n = int(input())\n",
    "\n",
    "for i in range(n):\n",
    "    print('\\nEnter element',end = '')\n",
    "    x.append(int(input()))\n",
    "\n",
    "print('\\nOrigianl array',x)\n",
    "\n",
    "print('\\nEnter the element to search',end='')\n",
    "s = int(input())\n",
    "flah = False\n",
    "\n",
    "for i in range(len(x)):\n",
    "    if s==x[i]:\n",
    "        print('\\nfound at position ',i+1)\n",
    "        flag=True\n",
    "if flag == False:\n",
    "    print('Not found in array')"
   ]
  },
  {
   "cell_type": "code",
   "execution_count": 54,
   "metadata": {},
   "outputs": [
    {
     "output_type": "stream",
     "name": "stdout",
     "text": [
      "How many element?\n",
      "Enter Element:\n",
      "Enter Element:\n",
      "original array: array('i', [3, 4])\n",
      "\n",
      "Enter element to search\n",
      "not found in array\n"
     ]
    }
   ],
   "source": [
    "# Write a Python Program to search for the position of an element in an array using index() method\n",
    "\n",
    "from array import *\n",
    "\n",
    "x = array('i',[])\n",
    "\n",
    "print(\"How many element?\", end=\"\")\n",
    "n = int(input())\n",
    "\n",
    "for i in range(n):\n",
    "    print(\"\\nEnter Element:\", end='')\n",
    "    x.append(int(input()))\n",
    "\n",
    "print(\"\\noriginal array:\",x)\n",
    "print('\\nEnter element to search', end=\"\")\n",
    "s = int(input())\n",
    "\n",
    "# index() method\n",
    "try:\n",
    "    pos = x.index(s)\n",
    "    print('\\nfound at position=',pos+1)\n",
    "\n",
    "except ValueError:\n",
    "    print('\\nnot found in array')"
   ]
  },
  {
   "source": [
    "### Hope you liked the content till now please dont forget to hit a star on [Github](https://github.com/JagdishChavan081)."
   ],
   "cell_type": "markdown",
   "metadata": {}
  },
  {
   "source": [
    "### Types of Arrays\n",
    "\n",
    "* **Single dimenshion array**:  represents only one row oe one column of element.\n",
    "* **Multi-dimensional arrays**: represents more than one row and column of element\n",
    "\n",
    "* In Python we can create and work with single dimensional arrays only, Python does not support multi-dimensional arrays.\n",
    "* we can construct multidimensional arraysusing packages like numpy, following session are devoted for numpy only.\n"
   ],
   "cell_type": "markdown",
   "metadata": {}
  },
  {
   "cell_type": "code",
   "execution_count": 58,
   "metadata": {},
   "outputs": [
    {
     "output_type": "stream",
     "name": "stdout",
     "text": [
      "<class 'numpy.ndarray'>\n[10 20 30 40]\n"
     ]
    }
   ],
   "source": [
    "# Write a python program to create a simple array using numpy. \n",
    "\n",
    "import numpy\n",
    "\n",
    "a = numpy.array([10,20,30,40])\n",
    "print(type(a))\n",
    "print(a)"
   ]
  },
  {
   "cell_type": "code",
   "execution_count": 62,
   "metadata": {},
   "outputs": [
    {
     "output_type": "stream",
     "name": "stdout",
     "text": [
      "<class 'numpy.ndarray'>\n[10 20 30 40]\n"
     ]
    }
   ],
   "source": [
    "#aliasing numpy as np\n",
    "import numpy as np \n",
    "\n",
    "a = numpy.array([10,20,30,40])\n",
    "print(type(a))\n",
    "print(a)"
   ]
  },
  {
   "source": [
    "# another way\n",
    "from numpy import *\n",
    "\n",
    "a = array([10,20,30,40,50])\n",
    "print(type(a))\n",
    "a"
   ],
   "cell_type": "code",
   "metadata": {},
   "execution_count": 66,
   "outputs": [
    {
     "output_type": "stream",
     "name": "stdout",
     "text": [
      "<class 'numpy.ndarray'>\n"
     ]
    },
    {
     "output_type": "execute_result",
     "data": {
      "text/plain": [
       "array([10, 20, 30, 40, 50])"
      ]
     },
     "metadata": {},
     "execution_count": 66
    }
   ]
  },
  {
   "source": [
    "** Creating array in numpy can be done in several ways. some important are as follow.\n",
    "* Using array() function.\n",
    "* Using linspace() function.\n",
    "* Using Logspace() function.\n",
    "* using arange() function.\n",
    "* using zeros() and ones() functions"
   ],
   "cell_type": "markdown",
   "metadata": {}
  },
  {
   "source": [
    "### Creating Arrays using array()\n",
    "* **syntax: a = array([10,20,30,40,50])**"
   ],
   "cell_type": "markdown",
   "metadata": {}
  },
  {
   "cell_type": "code",
   "execution_count": 70,
   "metadata": {},
   "outputs": [
    {
     "output_type": "error",
     "ename": "TypeError",
     "evalue": "Field elements must be 2- or 3-tuples, got ''5''",
     "traceback": [
      "\u001b[0;31m---------------------------------------------------------------------------\u001b[0m",
      "\u001b[0;31mTypeError\u001b[0m                                 Traceback (most recent call last)",
      "\u001b[0;32m<ipython-input-70-950f6b7dbf79>\u001b[0m in \u001b[0;36m<module>\u001b[0;34m\u001b[0m\n\u001b[1;32m      2\u001b[0m \u001b[0;34m\u001b[0m\u001b[0m\n\u001b[1;32m      3\u001b[0m \u001b[0;32mfrom\u001b[0m \u001b[0mnumpy\u001b[0m \u001b[0;32mimport\u001b[0m \u001b[0;34m*\u001b[0m\u001b[0;34m\u001b[0m\u001b[0;34m\u001b[0m\u001b[0m\n\u001b[0;32m----> 4\u001b[0;31m \u001b[0ma\u001b[0m \u001b[0;34m=\u001b[0m \u001b[0marray\u001b[0m\u001b[0;34m(\u001b[0m\u001b[0;34m[\u001b[0m\u001b[0;34m'a'\u001b[0m\u001b[0;34m,\u001b[0m\u001b[0;34m'b'\u001b[0m\u001b[0;34m,\u001b[0m\u001b[0;34m'c'\u001b[0m\u001b[0;34m,\u001b[0m\u001b[0;34m'd'\u001b[0m\u001b[0;34m]\u001b[0m\u001b[0;34m,\u001b[0m \u001b[0mdtype\u001b[0m \u001b[0;34m=\u001b[0m \u001b[0mstr\u001b[0m\u001b[0;34m)\u001b[0m\u001b[0;34m\u001b[0m\u001b[0;34m\u001b[0m\u001b[0m\n\u001b[0m\u001b[1;32m      5\u001b[0m \u001b[0mprint\u001b[0m\u001b[0;34m(\u001b[0m\u001b[0ma\u001b[0m\u001b[0;34m)\u001b[0m\u001b[0;34m\u001b[0m\u001b[0;34m\u001b[0m\u001b[0m\n",
      "\u001b[0;31mTypeError\u001b[0m: Field elements must be 2- or 3-tuples, got ''5''"
     ]
    }
   ],
   "source": [
    "# Write a python progam to create a character type array with a group of characters. \n",
    "\n",
    "from numpy import *\n",
    "a = array(['a','b','c','d'], dtype = str)\n",
    "print(a)"
   ]
  },
  {
   "cell_type": "code",
   "execution_count": 15,
   "metadata": {},
   "outputs": [
    {
     "output_type": "stream",
     "name": "stdout",
     "text": [
      "[1 2 3 4 5]\n[1 2 3 4 5]\n[1 2 3 4 5]\n"
     ]
    }
   ],
   "source": [
    "# Write a python program to create an array from another array. \n",
    "from numpy import *\n",
    "a = array([1,2,3,4,5])\n",
    "b = array(a)\n",
    "c = a\n",
    "\n",
    "#display array\n",
    "print(a)\n",
    "print(b)\n",
    "print(c)"
   ]
  },
  {
   "source": [
    "### Creating array using linspace\n",
    "* **syntax a = linspace(start, stop,n)**\n",
    "* Used to create an array with evenly spaced points between a starting point and ending point.\n",
    "* **start**: staring point of array.\n",
    "* **stop**: represents ending point.\n",
    "* **n**: number of parts elemnt should be divided, if n is omitted, then it is taken as 50.\n"
   ],
   "cell_type": "markdown",
   "metadata": {}
  },
  {
   "cell_type": "code",
   "execution_count": 18,
   "metadata": {},
   "outputs": [
    {
     "output_type": "execute_result",
     "data": {
      "text/plain": [
       "array([ 0. ,  2.5,  5. ,  7.5, 10. ])"
      ]
     },
     "metadata": {},
     "execution_count": 18
    }
   ],
   "source": [
    "# write a Python Program to creating an array with 5 equal points using linespace()\n",
    "from numpy import *\n",
    "\n",
    "# divide 0 to 10 into 5 parts\n",
    "a = linspace(0,10,5)\n",
    "a"
   ]
  },
  {
   "source": [
    "### Creating array using logspace()\n",
    "\n",
    "* logspace() produces evenly spaced points on a logratmically spaced scale.\n",
    "* **syntax:a = logspace(start, stop, n)**\n",
    "* start: staring point of array.\n",
    "* stop: represents ending point.\n",
    "* n: number of parts elemnt should be divided, if n is omitted, then it is taken as 50\n",
    "* The function represents value starting from $10^1$ to $10^4$."
   ],
   "cell_type": "markdown",
   "metadata": {}
  },
  {
   "cell_type": "code",
   "execution_count": 20,
   "metadata": {},
   "outputs": [
    {
     "output_type": "stream",
     "name": "stdout",
     "text": [
      "10.0,56.2,316.2,1778.3,10000.0,"
     ]
    }
   ],
   "source": [
    "# Write a python program to create an array using logspace()\n",
    "\n",
    "from numpy import *\n",
    "\n",
    "a= logspace(1,4,5)\n",
    "\n",
    "#find no of elements in a \n",
    "n =len(a)\n",
    "\n",
    "#repeat from 0 to n-1 times\n",
    "for i in range(n):\n",
    "    print('%.1f' %a[i],end=',')"
   ]
  },
  {
   "source": [
    "### Creating array using arange().\n",
    "* same as range function in python.\n",
    "* **syantax: a = arange(start, stop, stepsize)**"
   ],
   "cell_type": "markdown",
   "metadata": {}
  },
  {
   "cell_type": "code",
   "execution_count": 21,
   "metadata": {},
   "outputs": [
    {
     "output_type": "stream",
     "name": "stdout",
     "text": [
      "[ 2  4  6  8 10]\n"
     ]
    }
   ],
   "source": [
    "# Write a Python program to creat an array with even number up to 10.\n",
    "\n",
    "from numpy import *\n",
    "\n",
    "#create an array using arange() function\n",
    "a = arange(2,11,2)\n",
    "print(a)"
   ]
  },
  {
   "source": [
    "### Creating arrays using zeros() and ones() functions.\n",
    "* **zeros()** function is use to create an array with all zeros.\n",
    "* **syntax:zeros(n, datatype)**\n",
    "\n",
    "* **ones()** function is use to create an array with all 1s.\n",
    "* **syntax: ones(n, datatype)**"
   ],
   "cell_type": "markdown",
   "metadata": {}
  },
  {
   "cell_type": "code",
   "execution_count": 22,
   "metadata": {},
   "outputs": [
    {
     "output_type": "stream",
     "name": "stdout",
     "text": [
      "[0 0 0 0 0]\n[1 1 1 1 1]\n"
     ]
    }
   ],
   "source": [
    "# write a python program to create an numpy array with zeros and ones.\n",
    "\n",
    "from numpy import *\n",
    "a = zeros(5, int)\n",
    "print(a)\n",
    "\n",
    "b = ones(5, int)\n",
    "print(b)"
   ]
  },
  {
   "source": [
    "### Mathematical Operations on Arrays"
   ],
   "cell_type": "markdown",
   "metadata": {}
  },
  {
   "cell_type": "code",
   "execution_count": 7,
   "metadata": {},
   "outputs": [
    {
     "output_type": "stream",
     "name": "stdout",
     "text": [
      "\noriginal array [10 20 30 40 50]\n\n After adding 5: [15 25 35 45 55]\n\n after substracting 5 [ 5 15 25 35 45]\n\n after multiplying: [ 50 100 150 200 250]\n\n after division: [ 2.  4.  6.  8. 10.]\n\n after modulus with 5 [0 0 0 0 0]\n"
     ]
    }
   ],
   "source": [
    "# Write a Python Program to perform some mathematical operations on a numpy.\n",
    "\n",
    "from numpy import *\n",
    "\n",
    "# create a numpy array using array() function\n",
    "a = array([10,20,30,40,50])\n",
    "print('\\noriginal array',a)\n",
    "\n",
    "# arithmatic operations on array\n",
    "print('\\n After adding 5:',a+5)\n",
    "print('\\n after substracting 5',a-5)\n",
    "print('\\n after multiplying:',a*5)\n",
    "print('\\n after division:',a/5)\n",
    "print('\\n after modulus with 5',a%5)\n"
   ]
  },
  {
   "cell_type": "code",
   "execution_count": 6,
   "metadata": {},
   "outputs": [
    {
     "output_type": "stream",
     "name": "stdout",
     "text": [
      "Expression value: [ 215  615 1215 2015 3015]\n"
     ]
    }
   ],
   "source": [
    "# Write a Python program to create a expression using numpy array\n",
    "\n",
    "from numpy import *\n",
    "\n",
    "a = array([10,20,30,40,50])\n",
    "\n",
    "print(\"Expression value:\",(a+5)**2-10)"
   ]
  },
  {
   "source": [
    "### Mathematical Function in Numpy\n"
   ],
   "cell_type": "markdown",
   "metadata": {}
  },
  {
   "source": [
    "* **sin(arr):**calculates the sin value of each element in the array"
   ],
   "cell_type": "markdown",
   "metadata": {}
  },
  {
   "cell_type": "code",
   "execution_count": 8,
   "metadata": {},
   "outputs": [
    {
     "output_type": "stream",
     "name": "stdout",
     "text": [
      "\n sin value of array [-0.54402111  0.91294525 -0.98803162  0.74511316 -0.26237485]\n"
     ]
    }
   ],
   "source": [
    "from numpy import *\n",
    "\n",
    "a = array([10,20,30,40,50])\n",
    "print('\\n sin value of array',sin(a))"
   ]
  },
  {
   "source": [
    "* **cos(a):**calculates cosine value of each element of the array"
   ],
   "cell_type": "markdown",
   "metadata": {}
  },
  {
   "cell_type": "code",
   "execution_count": 9,
   "metadata": {},
   "outputs": [
    {
     "output_type": "stream",
     "name": "stdout",
     "text": [
      "\n cosine value of array [-0.83907153  0.40808206  0.15425145 -0.66693806  0.96496603]\n"
     ]
    }
   ],
   "source": [
    "from numpy import *\n",
    "\n",
    "a = array([10,20,30,40,50])\n",
    "print('\\n cosine value of array',cos(a))"
   ]
  },
  {
   "source": [
    "* **tan(a)**:Calculates tangent value of each element in the array."
   ],
   "cell_type": "markdown",
   "metadata": {}
  },
  {
   "cell_type": "code",
   "execution_count": 10,
   "metadata": {},
   "outputs": [
    {
     "output_type": "stream",
     "name": "stdout",
     "text": [
      "\n tan value of array [ 0.64836083  2.23716094 -6.4053312  -1.11721493 -0.27190061]\n"
     ]
    }
   ],
   "source": [
    "from numpy import *\n",
    "\n",
    "a = array([10,20,30,40,50])\n",
    "print('\\n tan value of array',tan(a))"
   ]
  },
  {
   "source": [
    "* Hope you like the work till here for more info on numpy array please do visit [Github](https://github.com/JagdishChavan081)"
   ],
   "cell_type": "markdown",
   "metadata": {}
  },
  {
   "cell_type": "code",
   "execution_count": null,
   "metadata": {},
   "outputs": [],
   "source": []
  }
 ]
}