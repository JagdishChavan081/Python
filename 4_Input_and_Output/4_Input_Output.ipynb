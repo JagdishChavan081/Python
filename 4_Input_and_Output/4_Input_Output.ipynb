{
 "metadata": {
  "language_info": {
   "codemirror_mode": {
    "name": "ipython",
    "version": 3
   },
   "file_extension": ".py",
   "mimetype": "text/x-python",
   "name": "python",
   "nbconvert_exporter": "python",
   "pygments_lexer": "ipython3",
   "version": "3.8.5"
  },
  "orig_nbformat": 2,
  "kernelspec": {
   "name": "python385jvsc74a57bd031f2aee4e71d21fbe5cf8b01ff0e069b9275f58929596ceb00d14d90e3e16cd6",
   "display_name": "Python 3.8.5 64-bit"
  },
  "metadata": {
   "interpreter": {
    "hash": "31f2aee4e71d21fbe5cf8b01ff0e069b9275f58929596ceb00d14d90e3e16cd6"
   }
  }
 },
 "nbformat": 4,
 "nbformat_minor": 2,
 "cells": [
  {
   "source": [
    "<center> <img src=\"/home/jagdish/pytn/1_notes/4_Input_and_Output/4. Input & Output.png\" width=\"900\" height=\"400\"> </center>"
   ],
   "cell_type": "markdown",
   "metadata": {}
  },
  {
   "source": [
    "* Purpose of Computer is to process data and return results, it means we should provide input to Computer.\n",
    "* Python provide some statement which are called **input statement**, similarly to display output there are **output statements**.\n",
    "* This logic is impemented in a form of several topics in subsequent chapter, which we are going to discuss in following order\n",
    "    * Output statements\n",
    "    * input statement\n",
    "\n",
    "### Output statement"
   ],
   "cell_type": "markdown",
   "metadata": {}
  },
  {
   "source": [
    "* **print():** to display output **print()** function is used in Python, as per need it can be used in different format.\n",
    "* anything inside python function in double quote(\"\"),single quote(\"\") is same print function accepts it as string value only.\n",
    "* Escape sequence are special characters which are use for formating of string value with print function."
   ],
   "cell_type": "markdown",
   "metadata": {}
  },
  {
   "cell_type": "code",
   "execution_count": 1,
   "metadata": {},
   "outputs": [
    {
     "output_type": "stream",
     "name": "stdout",
     "text": [
      "\n"
     ]
    }
   ],
   "source": [
    "# Empty print statement will throw the cursor to next line\n",
    "print()"
   ]
  },
  {
   "cell_type": "code",
   "execution_count": 2,
   "metadata": {},
   "outputs": [
    {
     "output_type": "stream",
     "name": "stdout",
     "text": [
      "This is my First Python Program\n"
     ]
    }
   ],
   "source": [
    "# Write a Python Program to display string ->\"This is my First Python Program\". \n",
    "print(\"This is my First Python Program\")"
   ]
  },
  {
   "cell_type": "code",
   "execution_count": 3,
   "metadata": {},
   "outputs": [
    {
     "output_type": "stream",
     "name": "stdout",
     "text": [
      "Hello\n this is my Second\n pyton program\n"
     ]
    }
   ],
   "source": [
    "# write a python program using escape sequence \\n-> new line \n",
    "\n",
    "print(\"Hello\\n this is my Second\\n pyton program\")"
   ]
  },
  {
   "cell_type": "code",
   "execution_count": 6,
   "metadata": {},
   "outputs": [
    {
     "output_type": "stream",
     "name": "stdout",
     "text": [
      "Hello, My Name is Jagdish\n"
     ]
    }
   ],
   "source": [
    "# write a python program to concanate two strings with'+' operator\n",
    "print(\"Hello, My Name is\" + \" \"+\"Jagdish\")"
   ]
  },
  {
   "cell_type": "code",
   "execution_count": 7,
   "metadata": {},
   "outputs": [
    {
     "output_type": "stream",
     "name": "stdout",
     "text": [
      "2 4\n"
     ]
    }
   ],
   "source": [
    "#Write a python program with 'sep' attribute\n",
    "\n",
    "a,b=2,4\n",
    "print(a,b,sep=\" \")"
   ]
  },
  {
   "cell_type": "code",
   "execution_count": 12,
   "metadata": {},
   "outputs": [
    {
     "output_type": "stream",
     "name": "stdout",
     "text": [
      "hiMy name isJagdish"
     ]
    }
   ],
   "source": [
    "# Write a python program with 'end' attribute\n",
    "print(\"hi\",end =\"\")\n",
    "print(\"My name is\",end=\"\")\n",
    "print(\"Jagdish\",end=\"\")"
   ]
  },
  {
   "source": [
    "### Formated string\n",
    "* '%' operator is used for formating string.\n",
    "* %i,%d  represents decimal integer number.\n",
    "* %f represents float value.\n",
    "* %s represents string value.\n",
    "* %c represents single character"
   ],
   "cell_type": "markdown",
   "metadata": {}
  },
  {
   "source": [
    "### Input Statement\n",
    "* to accept input from user python provide input() function.\n",
    "* input() function bydefault accepts any value as string value, hence we have to specify which type of input we are accepting integer, float etc."
   ],
   "cell_type": "markdown",
   "metadata": {}
  },
  {
   "cell_type": "code",
   "execution_count": 20,
   "metadata": {},
   "outputs": [
    {
     "output_type": "stream",
     "name": "stdout",
     "text": [
      "hi jagdishyou scored 400.00marks and your percentage are 80 you scored A\n"
     ]
    }
   ],
   "source": [
    "# write a python program to diplay use of formated string\n",
    "\n",
    "total = 500\n",
    "obm = float(input(\"enter your marks out of 500\"))\n",
    "per =(obm/total)*100\n",
    "name = str(input(\"Enter your name\"))\n",
    "grade = ['A','B','C','D']\n",
    "print(\"hi %s\"%name +' you scored %.2f'%obm +'marks and your percentage are %0i'%per +' you scored %c'%grade[0])"
   ]
  },
  {
   "cell_type": "code",
   "execution_count": null,
   "metadata": {},
   "outputs": [],
   "source": []
  }
 ]
}