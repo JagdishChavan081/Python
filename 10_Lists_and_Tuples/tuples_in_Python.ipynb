{
  "nbformat": 4,
  "nbformat_minor": 0,
  "metadata": {
    "colab": {
      "name": "tuples in Python.ipynb",
      "provenance": [],
      "collapsed_sections": []
    },
    "kernelspec": {
      "display_name": "Python 3",
      "name": "python3"
    }
  },
  "cells": [
    {
      "cell_type": "markdown",
      "metadata": {
        "id": "KNAPLTWuotEf"
      },
      "source": [
        "<center><h1>10 Tuples in Python</h1></center>\n",
        "\n",
        "* Notes by Jagdish Chavan\n",
        "* for more code and Projects in AI, ML, DL follow on [Github](https://github.com/JagdishChavan081)|[Linkedin](https://www.linkedin.com/in/jagdishchavan)"
      ]
    },
    {
      "cell_type": "markdown",
      "metadata": {
        "id": "vc7p-wG-AyGt"
      },
      "source": [
        "##Tuples\n",
        "\n",
        "* Tuples are similar to list but the main difference is tuple are immutable where list mutable.\n",
        "* as tuple are immutable operations like append(), extend(),insert(),remove(),pop() and clear() cannot be performed.\n",
        "* tuple are used when no modification is allowed and retrive the data on demand."
      ]
    },
    {
      "cell_type": "markdown",
      "metadata": {
        "id": "8ja9Qrl7A8or"
      },
      "source": [
        "### Creating  a Tuple\n",
        "A tuple looks just like a list except you use parentheses instead of square\n",
        "brackets. Once you define a tuple, you can access individual elements by\n",
        "using each item’s index, just as you would for a list.\n",
        "\n",
        "For example, if we have a rectangle that should always be a certain size,\n",
        "we can ensure that its size doesn’t change by putting the dimensions into a\n",
        "tuple:"
      ]
    },
    {
      "cell_type": "code",
      "metadata": {
        "colab": {
          "base_uri": "https://localhost:8080/",
          "height": 52
        },
        "id": "Dzlwvk6jA6zI",
        "outputId": "fb1a0b0d-ba53-471e-e28f-8709fa0e3df1"
      },
      "source": [
        "dimensions = (200, 50)\n",
        "print(dimensions[0])\n",
        "print(dimensions[1])"
      ],
      "execution_count": null,
      "outputs": [
        {
          "output_type": "stream",
          "text": [
            "200\n",
            "50\n"
          ],
          "name": "stdout"
        }
      ]
    },
    {
      "cell_type": "markdown",
      "metadata": {
        "id": "7n2h4QtgBJS6"
      },
      "source": [
        "Let’s see what happens if we try to change one of the items in the tuple\n",
        "dimensions :"
      ]
    },
    {
      "cell_type": "code",
      "metadata": {
        "colab": {
          "base_uri": "https://localhost:8080/",
          "height": 166
        },
        "id": "FSHjTZcyBG4d",
        "outputId": "76285170-8c03-4c69-b6f5-6d58b45995a3"
      },
      "source": [
        "dimensions[0] = 250"
      ],
      "execution_count": null,
      "outputs": [
        {
          "output_type": "error",
          "ename": "TypeError",
          "evalue": "ignored",
          "traceback": [
            "\u001b[0;31m---------------------------------------------------------------------------\u001b[0m",
            "\u001b[0;31mTypeError\u001b[0m                                 Traceback (most recent call last)",
            "\u001b[0;32m<ipython-input-5-00271e61a311>\u001b[0m in \u001b[0;36m<module>\u001b[0;34m()\u001b[0m\n\u001b[0;32m----> 1\u001b[0;31m \u001b[0mdimensions\u001b[0m\u001b[0;34m[\u001b[0m\u001b[0;36m0\u001b[0m\u001b[0;34m]\u001b[0m \u001b[0;34m=\u001b[0m \u001b[0;36m250\u001b[0m\u001b[0;34m\u001b[0m\u001b[0;34m\u001b[0m\u001b[0m\n\u001b[0m",
            "\u001b[0;31mTypeError\u001b[0m: 'tuple' object does not support item assignment"
          ]
        }
      ]
    },
    {
      "cell_type": "markdown",
      "metadata": {
        "id": "Bzd5MxfPBUc1"
      },
      "source": [
        "The code  tries to change the value of the first dimension, but\n",
        "Python returns a type error. Basically, because we’re trying to alter a tuple,\n",
        "which can’t be done to that type of object, Python tells us we can’t assign a\n",
        "new value to an item in a tuple:"
      ]
    },
    {
      "cell_type": "markdown",
      "metadata": {
        "id": "rhfr_xHHBUbd"
      },
      "source": [
        "This is beneficial because we want Python to raise an error when a line\n",
        "of code tries to change the dimensions of the rectangle."
      ]
    },
    {
      "cell_type": "markdown",
      "metadata": {
        "id": "yputT52uBgu6"
      },
      "source": [
        "* Tuples are technically defined by the presence of a comma; the parentheses make them\n",
        "look neater and more readable. If you want to define a tuple with one element, you\n",
        "need to include a trailing comma:*"
      ]
    },
    {
      "cell_type": "code",
      "metadata": {
        "colab": {
          "base_uri": "https://localhost:8080/",
          "height": 35
        },
        "id": "3-7dQ2rt8UGJ",
        "outputId": "1a8a478f-91a4-4cf6-a064-b671b5747dde"
      },
      "source": [
        "my_tuple = (56)\n",
        "type(my_tuple)"
      ],
      "execution_count": null,
      "outputs": [
        {
          "output_type": "execute_result",
          "data": {
            "text/plain": [
              "int"
            ]
          },
          "metadata": {
            "tags": []
          },
          "execution_count": 7
        }
      ]
    },
    {
      "cell_type": "code",
      "metadata": {
        "colab": {
          "base_uri": "https://localhost:8080/",
          "height": 35
        },
        "id": "UYwDHu-vBPre",
        "outputId": "55f9b491-2f58-4a37-960a-0c7192c58126"
      },
      "source": [
        "my_tuple = (3,)\n",
        "print(type(my_tuple))"
      ],
      "execution_count": null,
      "outputs": [
        {
          "output_type": "stream",
          "text": [
            "<class 'tuple'>\n"
          ],
          "name": "stdout"
        }
      ]
    },
    {
      "cell_type": "code",
      "metadata": {
        "colab": {
          "base_uri": "https://localhost:8080/",
          "height": 35
        },
        "id": "vf1sQ4F2fntS",
        "outputId": "87301674-3cd1-4ff0-b151-e283f90e86e2"
      },
      "source": [
        "my_tup =()\n",
        "print(type(my_tup))"
      ],
      "execution_count": null,
      "outputs": [
        {
          "output_type": "stream",
          "text": [
            "<class 'tuple'>\n"
          ],
          "name": "stdout"
        }
      ]
    },
    {
      "cell_type": "code",
      "metadata": {
        "colab": {
          "base_uri": "https://localhost:8080/",
          "height": 34
        },
        "id": "ZfxqHp7nfw5F",
        "outputId": "edf08da1-c8e8-4014-e2ae-ebd6e66f9c22"
      },
      "source": [
        "my_tup =(3.14,)\n",
        "print(type(my_tup))\n"
      ],
      "execution_count": null,
      "outputs": [
        {
          "output_type": "stream",
          "text": [
            "<class 'tuple'>\n"
          ],
          "name": "stdout"
        }
      ]
    },
    {
      "cell_type": "markdown",
      "metadata": {
        "id": "_VF2BVeqCB5I"
      },
      "source": [
        "It doesn’t often make sense to build a tuple with one element, but this can happen\n",
        "when tuples are generated automatically."
      ]
    },
    {
      "cell_type": "code",
      "metadata": {
        "colab": {
          "base_uri": "https://localhost:8080/",
          "height": 34
        },
        "id": "HNkEAzYqBl2n",
        "outputId": "a6acd150-6ebf-42f6-e868-447c106b3819"
      },
      "source": [
        "my=()\n",
        "print(type(my))"
      ],
      "execution_count": null,
      "outputs": [
        {
          "output_type": "stream",
          "text": [
            "<class 'tuple'>\n"
          ],
          "name": "stdout"
        }
      ]
    },
    {
      "cell_type": "markdown",
      "metadata": {
        "id": "U8Wj3_DgCEC9"
      },
      "source": [
        "##Looping Through All Values in a Tuple\n",
        "\n",
        "You can loop over all the values in a tuple using a for loop, just as you did\n",
        "with a list:"
      ]
    },
    {
      "cell_type": "code",
      "metadata": {
        "colab": {
          "base_uri": "https://localhost:8080/",
          "height": 52
        },
        "id": "4hUTGrOyCHrd",
        "outputId": "4a1e07a9-9b96-4c87-abc3-422ec2cdb200"
      },
      "source": [
        "for dimension in dimensions:\n",
        "  print(dimension)"
      ],
      "execution_count": null,
      "outputs": [
        {
          "output_type": "stream",
          "text": [
            "200\n",
            "50\n"
          ],
          "name": "stdout"
        }
      ]
    },
    {
      "cell_type": "markdown",
      "metadata": {
        "id": "Gk4_gTj_CeOK"
      },
      "source": [
        "##Writing over a Tuple\n",
        "\n",
        "Although you can’t modify a tuple, you can assign a new value to a variable\n",
        "that represents a tuple. So if we wanted to change our dimensions, we could\n",
        "redefine the entire tuple:"
      ]
    },
    {
      "cell_type": "code",
      "metadata": {
        "colab": {
          "base_uri": "https://localhost:8080/",
          "height": 69
        },
        "id": "U-8LPbwpCUtO",
        "outputId": "cbb5cbdf-bea8-441d-d465-14fd8d4f2cd6"
      },
      "source": [
        "print(\"Original dimensions:\")\n",
        "for dimension in dimensions:\n",
        "  print(dimension)"
      ],
      "execution_count": null,
      "outputs": [
        {
          "output_type": "stream",
          "text": [
            "Original dimensions:\n",
            "200\n",
            "50\n"
          ],
          "name": "stdout"
        }
      ]
    },
    {
      "cell_type": "code",
      "metadata": {
        "colab": {
          "base_uri": "https://localhost:8080/",
          "height": 87
        },
        "id": "jDDk-VjiC1di",
        "outputId": "7d145eb3-c762-4a33-965f-a437227f814e"
      },
      "source": [
        "dimensions = (800,20)\n",
        "print(\"\\nModified dimensions:\")\n",
        "for dimension in dimensions:\n",
        "  print(dimension)"
      ],
      "execution_count": null,
      "outputs": [
        {
          "output_type": "stream",
          "text": [
            "\n",
            "Modified dimensions:\n",
            "800\n",
            "20\n"
          ],
          "name": "stdout"
        }
      ]
    },
    {
      "cell_type": "markdown",
      "metadata": {
        "id": "2JD79J88CsTs"
      },
      "source": [
        "The lines starting  define the original tuple and print the initial\n",
        "dimensions.  we associate a new tuple with the variable dimensions . We\n",
        "then print the new dimensions. Python doesn’t raise any errors this\n",
        "time, because reassigning a variable is valid:"
      ]
    },
    {
      "cell_type": "markdown",
      "metadata": {
        "id": "6Y6nn2cqEC6O"
      },
      "source": [
        "**When compared with lists, tuples are simple data structures. Use them\n",
        "when you want to store a set of values that should not be changed through-\n",
        "out the life of a program.**\n",
        "\n",
        "### Basic operations on Tuple."
      ]
    },
    {
      "cell_type": "markdown",
      "metadata": {
        "id": "zsyscT9UrQ1Q"
      },
      "source": [
        "* **len()**:- To find length of a tuple, we can use len() function."
      ]
    },
    {
      "cell_type": "code",
      "metadata": {
        "colab": {
          "base_uri": "https://localhost:8080/"
        },
        "id": "LcGOxHy8q-xY",
        "outputId": "6e4762b9-7937-455d-89b7-845e57763afc"
      },
      "source": [
        "student =(10, 'Yashkumar', 50,60,65,61,70)\n",
        "len(student)"
      ],
      "execution_count": null,
      "outputs": [
        {
          "output_type": "execute_result",
          "data": {
            "text/plain": [
              "7"
            ]
          },
          "metadata": {
            "tags": []
          },
          "execution_count": 1
        }
      ]
    },
    {
      "cell_type": "markdown",
      "metadata": {
        "id": "kj4U82gwr3zq"
      },
      "source": [
        "* we can concatenate or join two tuple and store the result in a new tuple."
      ]
    },
    {
      "cell_type": "code",
      "metadata": {
        "colab": {
          "base_uri": "https://localhost:8080/"
        },
        "id": "1OBSdT84rr8g",
        "outputId": "eb859d57-3959-4666-9887-c39057c25be3"
      },
      "source": [
        "fees = (25000.00,)*4\n",
        "fees"
      ],
      "execution_count": null,
      "outputs": [
        {
          "output_type": "execute_result",
          "data": {
            "text/plain": [
              "(25000.0, 25000.0, 25000.0, 25000.0)"
            ]
          },
          "metadata": {
            "tags": []
          },
          "execution_count": 2
        }
      ]
    },
    {
      "cell_type": "code",
      "metadata": {
        "colab": {
          "base_uri": "https://localhost:8080/"
        },
        "id": "gWUDl1ngsPEV",
        "outputId": "ed0dcbe2-0e2e-4946-aaeb-0f2b514dcced"
      },
      "source": [
        "student1 = student+fees\n",
        "student1"
      ],
      "execution_count": null,
      "outputs": [
        {
          "output_type": "execute_result",
          "data": {
            "text/plain": [
              "(10, 'Yashkumar', 50, 60, 65, 61, 70, 25000.0, 25000.0, 25000.0, 25000.0)"
            ]
          },
          "metadata": {
            "tags": []
          },
          "execution_count": 3
        }
      ]
    },
    {
      "cell_type": "markdown",
      "metadata": {
        "id": "cXubzowSsgx9"
      },
      "source": [
        "* searching element in typle can be done using in, notin operation."
      ]
    },
    {
      "cell_type": "code",
      "metadata": {
        "colab": {
          "base_uri": "https://localhost:8080/"
        },
        "id": "4IUHl1BSsWPD",
        "outputId": "fe3169be-5864-4735-891f-4a813a0d2e1a"
      },
      "source": [
        "name = 'Yashkumar'\n",
        "name in student1"
      ],
      "execution_count": null,
      "outputs": [
        {
          "output_type": "execute_result",
          "data": {
            "text/plain": [
              "True"
            ]
          },
          "metadata": {
            "tags": []
          },
          "execution_count": 4
        }
      ]
    },
    {
      "cell_type": "markdown",
      "metadata": {
        "id": "xZbT59-Es6IV"
      },
      "source": [
        "* **min()**: returns the smallest element in tuple."
      ]
    },
    {
      "cell_type": "code",
      "metadata": {
        "colab": {
          "base_uri": "https://localhost:8080/"
        },
        "id": "GwVnkz2PswA9",
        "outputId": "42867d0d-d78f-4ad2-b0be-57e5a7eac65a"
      },
      "source": [
        "num = (10,20,30,4,56,89)\n",
        "min(num)"
      ],
      "execution_count": null,
      "outputs": [
        {
          "output_type": "execute_result",
          "data": {
            "text/plain": [
              "4"
            ]
          },
          "metadata": {
            "tags": []
          },
          "execution_count": 5
        }
      ]
    },
    {
      "cell_type": "markdown",
      "metadata": {
        "id": "rh4vQMTUtLvP"
      },
      "source": [
        "* **max()**: Returns the biggest element in Tuple."
      ]
    },
    {
      "cell_type": "code",
      "metadata": {
        "colab": {
          "base_uri": "https://localhost:8080/"
        },
        "id": "u5ThtokktKRM",
        "outputId": "2e1892bf-5ffe-49cf-fd1e-280afe69446f"
      },
      "source": [
        "max(num)"
      ],
      "execution_count": null,
      "outputs": [
        {
          "output_type": "execute_result",
          "data": {
            "text/plain": [
              "89"
            ]
          },
          "metadata": {
            "tags": []
          },
          "execution_count": 6
        }
      ]
    },
    {
      "cell_type": "markdown",
      "metadata": {
        "id": "_TVWh2natYYb"
      },
      "source": [
        "* **count()**: Returns how many times the element 'x' is found in tuple.\n"
      ]
    },
    {
      "cell_type": "code",
      "metadata": {
        "colab": {
          "base_uri": "https://localhost:8080/"
        },
        "id": "oZx7txTytVIJ",
        "outputId": "dddff3bd-c0c7-4dd7-b819-5c6b7ce61ea3"
      },
      "source": [
        "num.count(10)"
      ],
      "execution_count": null,
      "outputs": [
        {
          "output_type": "execute_result",
          "data": {
            "text/plain": [
              "1"
            ]
          },
          "metadata": {
            "tags": []
          },
          "execution_count": 7
        }
      ]
    },
    {
      "cell_type": "markdown",
      "metadata": {
        "id": "3eliPBBztpNw"
      },
      "source": [
        "* **index()**: Returns the first occurance of element in tuple , raises value error if element is not found in tuple.\n"
      ]
    },
    {
      "cell_type": "code",
      "metadata": {
        "colab": {
          "base_uri": "https://localhost:8080/"
        },
        "id": "EsuNi5DLtm5x",
        "outputId": "06f11a10-9e09-4685-8c96-5d19794a45fb"
      },
      "source": [
        "num.index(30)"
      ],
      "execution_count": null,
      "outputs": [
        {
          "output_type": "execute_result",
          "data": {
            "text/plain": [
              "2"
            ]
          },
          "metadata": {
            "tags": []
          },
          "execution_count": 8
        }
      ]
    },
    {
      "cell_type": "markdown",
      "metadata": {
        "id": "KRvknsePuC2M"
      },
      "source": [
        "* **sorted()**: sorts the eleement of tuple into assending order.(tpl,reverse=True) will sort in reverse order."
      ]
    },
    {
      "cell_type": "code",
      "metadata": {
        "colab": {
          "base_uri": "https://localhost:8080/"
        },
        "id": "IxGeVMomuAuU",
        "outputId": "5e405cce-2d01-4559-98d4-a4740d05af6f"
      },
      "source": [
        "sorted(num)"
      ],
      "execution_count": null,
      "outputs": [
        {
          "output_type": "execute_result",
          "data": {
            "text/plain": [
              "[4, 10, 20, 30, 56, 89]"
            ]
          },
          "metadata": {
            "tags": []
          },
          "execution_count": 9
        }
      ]
    },
    {
      "cell_type": "code",
      "metadata": {
        "colab": {
          "base_uri": "https://localhost:8080/"
        },
        "id": "m-H0GJfguasz",
        "outputId": "c943445a-4bd5-4c6e-af54-f811b2b24db8"
      },
      "source": [
        "#tuple in reverse order\n",
        "sorted(num, reverse=True)"
      ],
      "execution_count": null,
      "outputs": [
        {
          "output_type": "execute_result",
          "data": {
            "text/plain": [
              "[89, 56, 30, 20, 10, 4]"
            ]
          },
          "metadata": {
            "tags": []
          },
          "execution_count": 10
        }
      ]
    },
    {
      "cell_type": "code",
      "metadata": {
        "colab": {
          "base_uri": "https://localhost:8080/"
        },
        "id": "s_zS38LzukZh",
        "outputId": "4a026e2d-ed50-4025-d1ca-aaea43447ded"
      },
      "source": [
        "#write a python Program to accept elements in a form of a tuple and display there sum and average.\n",
        "\n",
        "num = (eval(input('enter the element')))\n",
        "sum=0\n",
        "n = len(num)\n",
        "for i in range(n):\n",
        "  sum+=num[i]\n",
        "print('sum os number',sum)\n",
        "print('Average of number',sum/n)"
      ],
      "execution_count": null,
      "outputs": [
        {
          "output_type": "stream",
          "text": [
            "enter the element1,2,3,5,5\n",
            "sum os number 16\n",
            "Average of number 3.2\n"
          ],
          "name": "stdout"
        }
      ]
    },
    {
      "cell_type": "code",
      "metadata": {
        "colab": {
          "base_uri": "https://localhost:8080/"
        },
        "id": "Y4VEMxoWveP6",
        "outputId": "b969db0e-3e15-4bc0-ccf5-326aaa6ee3e5"
      },
      "source": [
        "#write a python program to find first occurance of an element in tuple.\n",
        "\n",
        "#accect the element as str in a list\n",
        "st = input('Enter the element sperated by commas: ').split(',')\n",
        "\n",
        "lst = [int(num) for num in st]\n",
        "tup = tuple(lst)\n",
        "print('the tuple is',tup)\n",
        "\n",
        "#searching element\n",
        "ele = int(input('Enter the element to search: '))\n",
        "try:\n",
        "  pos = tup.index(ele)\n",
        "  print('element position no: ',pos+1)\n",
        "\n",
        "except ValueError:\n",
        "  print('Element not found in tuple')"
      ],
      "execution_count": null,
      "outputs": [
        {
          "output_type": "stream",
          "text": [
            "Enter the element sperated by commas: 10,20,30,40,50\n",
            "the tuple is (10, 20, 30, 40, 50)\n",
            "Enter the element to search: 30\n",
            "element position no:  3\n"
          ],
          "name": "stdout"
        }
      ]
    },
    {
      "cell_type": "markdown",
      "metadata": {
        "id": "mGjy61A72bwm"
      },
      "source": [
        "### Nested Tuples\n",
        "\n",
        "* Tuple within a Tuple is called nested tuple.\n",
        "* inner tuple is considered as element by outer tuple."
      ]
    },
    {
      "cell_type": "code",
      "metadata": {
        "colab": {
          "base_uri": "https://localhost:8080/"
        },
        "id": "K-hmAbZg2U94",
        "outputId": "dd71abe0-901e-4d5a-ab0d-8c9efa820254"
      },
      "source": [
        "#write a Python Program to sort a tuple with nested tuples.\n",
        "\n",
        "#sorting a tuple that contains tuple as elements\n",
        "\n",
        "emp = ((10, 'suraj', 9000.90),(20,'nirman',5500.75),(30,'ranjana',8900.00),(40,'kapoor',5555))\n",
        "\n",
        "print(sorted(emp))"
      ],
      "execution_count": null,
      "outputs": [
        {
          "output_type": "stream",
          "text": [
            "[(10, 'suraj', 9000.9), (20, 'nirman', 5500.75), (30, 'ranjana', 8900.0), (40, 'kapoor', 5555)]\n"
          ],
          "name": "stdout"
        }
      ]
    },
    {
      "cell_type": "code",
      "metadata": {
        "colab": {
          "base_uri": "https://localhost:8080/"
        },
        "id": "f4ZBhmM13vw4",
        "outputId": "a473f151-cc97-491d-d901-ab21ae2278b5"
      },
      "source": [
        "#reverse sort\n",
        "print(sorted(emp, reverse=True))"
      ],
      "execution_count": null,
      "outputs": [
        {
          "output_type": "stream",
          "text": [
            "[(40, 'kapoor', 5555), (30, 'ranjana', 8900.0), (20, 'nirman', 5500.75), (10, 'suraj', 9000.9)]\n"
          ],
          "name": "stdout"
        }
      ]
    },
    {
      "cell_type": "code",
      "metadata": {
        "colab": {
          "base_uri": "https://localhost:8080/"
        },
        "id": "sdDuzGGn3-Sk",
        "outputId": "47baa5ca-941e-43b7-c3be-06912b9b2082"
      },
      "source": [
        "#sort with name\n",
        "print(sorted(emp, key = lambda x:x[1]))"
      ],
      "execution_count": null,
      "outputs": [
        {
          "output_type": "stream",
          "text": [
            "[(40, 'kapoor', 5555), (20, 'nirman', 5500.75), (30, 'ranjana', 8900.0), (10, 'suraj', 9000.9)]\n"
          ],
          "name": "stdout"
        }
      ]
    },
    {
      "cell_type": "code",
      "metadata": {
        "colab": {
          "base_uri": "https://localhost:8080/"
        },
        "id": "WITfCy2C4J60",
        "outputId": "51556100-03cc-4858-baac-f1b947f803e6"
      },
      "source": [
        "#sort with salary\n",
        "print(sorted(emp, key = lambda x:x[2]))"
      ],
      "execution_count": null,
      "outputs": [
        {
          "output_type": "stream",
          "text": [
            "[(20, 'nirman', 5500.75), (40, 'kapoor', 5555), (30, 'ranjana', 8900.0), (10, 'suraj', 9000.9)]\n"
          ],
          "name": "stdout"
        }
      ]
    },
    {
      "cell_type": "markdown",
      "metadata": {
        "id": "jBdQpR5b4oJ8"
      },
      "source": [
        "### Inserting Elements in a Tuple."
      ]
    },
    {
      "cell_type": "code",
      "metadata": {
        "colab": {
          "background_save": true,
          "base_uri": "https://localhost:8080/",
          "height": 262
        },
        "id": "Coj8mTX44eez",
        "outputId": "e53561f2-45e8-4f83-eb70-735510d44ba9"
      },
      "source": [
        "#write a Python Program to insert a new element into tuple of element at a specified position.\n",
        "\n",
        "name = ('aastha','aishwarya','yogesh','sapna')\n",
        "\n",
        "#accept the new name and position\n",
        "lst = [input('enter new name: ')]\n",
        "new = tuple(lst)\n",
        "pos = int(input('Enter position no: '))\n",
        "\n",
        "#copy from 0th to pos-2 into another tuple names1\n",
        "names1 = names[0:pos-1]\n",
        "\n",
        "#concatenate new element at pos-1\n",
        "names1 = names1+new\n",
        "\n",
        "#concatenate the remaining elements of names from pos-1 till end\n",
        "names = names1+names[pos-1:]\n",
        "print(names)"
      ],
      "execution_count": null,
      "outputs": [
        {
          "output_type": "stream",
          "text": [
            "('aastha', 'aishwarya', 'jagdish', 'yogesh', 'sapna')\n"
          ],
          "name": "stdout"
        }
      ]
    },
    {
      "cell_type": "markdown",
      "metadata": {
        "id": "_WNmmGGx72JF"
      },
      "source": [
        "### Modify the element of a tuple\n",
        "\n",
        "* it is not possible to modify or update an element of a tuple since tuple are immutable.\n",
        "* we have to ceate a new tuple in position of current tuple."
      ]
    },
    {
      "cell_type": "code",
      "metadata": {
        "id": "UgIi0chN6cHU",
        "colab": {
          "base_uri": "https://localhost:8080/"
        },
        "outputId": "918393ac-6ca3-40bd-faa0-4749b2824924"
      },
      "source": [
        "#write a python program to modify or replace an existing element of a tuple with a new elements\n",
        "\n",
        "num = (10,20,30,40,50)\n",
        "\n",
        "#access new element and position number\n",
        "lst = [int(input(\"Enter the new element\"))]\n",
        "new =tuple(lst)\n",
        "pos = int(input('enter the position number'))\n",
        "\n",
        "num1 = num[0:pos-1]\n",
        "num1=num1+new\n",
        "num = num1+num[pos:]\n",
        "print(num)"
      ],
      "execution_count": null,
      "outputs": [
        {
          "output_type": "stream",
          "text": [
            "Enter the new element78\n",
            "enter the position number1\n",
            "(78, 20, 30, 40, 50)\n"
          ],
          "name": "stdout"
        }
      ]
    },
    {
      "cell_type": "markdown",
      "metadata": {
        "id": "IQD6TIfo-J3g"
      },
      "source": [
        "### Deleting Elements from a Tuple"
      ]
    },
    {
      "cell_type": "code",
      "metadata": {
        "colab": {
          "base_uri": "https://localhost:8080/"
        },
        "id": "comETK0G9x63",
        "outputId": "dc3ce0a3-72be-4ba0-e72d-60d3e4409221"
      },
      "source": [
        "#write a python program to delete an element from a particular position in the tuple.\n",
        "num = (10,20,30,40,50)\n",
        "\n",
        "#accept position number of the wlwmwnt to delete\n",
        "pos = int(input('Enter position number: '))\n",
        "\n",
        "num1 = num[0:pos-1]\n",
        "\n",
        "num = num1+num[pos:]\n",
        "print(num)"
      ],
      "execution_count": null,
      "outputs": [
        {
          "output_type": "stream",
          "text": [
            "Enter position number: 3\n",
            "(10, 20, 40, 50)\n"
          ],
          "name": "stdout"
        }
      ]
    }
  ]
}