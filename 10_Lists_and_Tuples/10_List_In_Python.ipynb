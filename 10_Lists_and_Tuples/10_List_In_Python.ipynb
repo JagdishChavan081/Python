{
  "nbformat": 4,
  "nbformat_minor": 0,
  "metadata": {
    "colab": {
      "name": "10_List_In_Python.ipynb",
      "provenance": [],
      "collapsed_sections": []
    },
    "kernelspec": {
      "display_name": "Python 3",
      "name": "python3"
    }
  },
  "cells": [
    {
      "cell_type": "markdown",
      "metadata": {
        "id": "hNemXiMk2kFh"
      },
      "source": [
        "<center><h1>10 List And Tuples In Python</h1></center>\n",
        "\n",
        "* Notes by Jagdish Chavan\n",
        "\n",
        "* This file focuses on **List in Python**, as list works as **Data Type** and part of **Data Structure In Python** this notes are designed for study of both simultaneously.\n",
        "\n",
        "* to acquire more **knowledge and Projects in Python Programming, Data Science, AI, ML, DL you can follow [linkedin](https://www.linkedin.com/in/jagdishchavan) | [github](https://github.com/JagdishChavan081)**"
      ]
    },
    {
      "cell_type": "markdown",
      "metadata": {
        "id": "yx0Llac86ZtA"
      },
      "source": [
        "* List is “Mutable” in Nature.\n",
        "\n",
        "* ordered sequence of elements.\n",
        "\n",
        "* element or value that is inside of a list is called an item.\n",
        "* The element of the list can access by index.\n",
        "* great to use when you want to work with many related values.\n",
        "* enable you to keep data together that belongs together, condense your code, and perform the same methods and operations on multiple values at once.\n",
        "* similar to array.\n",
        "* array can store only one type of element(**Homogenious in Nature**) list can store different type of element (**Hetrogenous in Nature**)\n",
        "* More Versatile and Usefull then array.\n",
        "* Most used data Type in Python.\n",
        "* Example of list are as follow\n",
        "    * assortment of files, song playlists, browser bookmarks, emails.\n",
        "\n",
        "\n"
      ]
    },
    {
      "cell_type": "markdown",
      "metadata": {
        "id": "xl0uHTSPFVrJ"
      },
      "source": [
        "## Creating A List\n",
        "* There are Two Different Way to create a list \n",
        "    * empty list without any element by simply writing empty square braces as:- **e_lst = [ ]**\n",
        "    * by using **list()** Constructor."
      ]
    },
    {
      "cell_type": "code",
      "metadata": {
        "colab": {
          "base_uri": "https://localhost:8080/"
        },
        "id": "Q-kmNJkd5yoI",
        "outputId": "9ba7adfd-cf01-443c-a1a2-3725c3547487"
      },
      "source": [
        "# Write a Python Program to create list with different type of elements\n",
        "\n",
        "#list with integer numbers\n",
        "marks = [10, 20, 30,40,50]\n",
        "print('Numeric list:-',marks)\n",
        "print(type(marks))                                 # type() is use to check data type of given element.\n",
        "\n",
        "#list with strings.\n",
        "sub = [\"english\", \"Hindi\",\"Marathi\",\"Mathematics\",\"Science\"]\n",
        "print('\\nString list:-',sub)\n",
        "print(type(sub))\n",
        "\n",
        "#Hetrogenous List\n",
        "x = [10,20,10.5,2.25,\"Ganesh\",\"vaishu\"]\n",
        "print('\\n Hetrogenous list:-',x)\n",
        "print(type(x))\n",
        "\n",
        "#creating list with list() constructor\n",
        "fruits = list((\"apple\", \"banana\", \"cherry\"))      # note the double round-brackets\n",
        "print('\\n list() constructor method:-',fruits)\n",
        "print(type(fruits))\n"
      ],
      "execution_count": null,
      "outputs": [
        {
          "output_type": "stream",
          "text": [
            "Numeric list:- [10, 20, 30, 40, 50]\n",
            "<class 'list'>\n",
            "\n",
            "String list:- ['english', 'Hindi', 'Marathi', 'Mathematics', 'Science']\n",
            "<class 'list'>\n",
            "\n",
            " Hetrogenous list:- [10, 20, 10.5, 2.25, 'Ganesh', 'vaishu']\n",
            "<class 'list'>\n",
            "\n",
            " list() constructor method:- ['apple', 'banana', 'cherry']\n",
            "<class 'list'>\n"
          ],
          "name": "stdout"
        }
      ]
    },
    {
      "cell_type": "markdown",
      "metadata": {
        "id": "l_BpCVkRcavk"
      },
      "source": [
        "## List Indexing and Spliting\n",
        "* The indexing is processed in the same way as it happens with the strings.\n",
        "*The elements of the list can be accessed by using the slice operation.\n",
        "* Like String List also support positive indexing and Negative Indexing.\n",
        "* The first element of the list is stored at the 0th index and so on.\n",
        "\n",
        "<figure>\n",
        "<center>\n",
        "<img src=\"https://static.javatpoint.com/python/images/lists-indexing-and-splitting.png\" />\n",
        "<figcaption>Indexing In List</figcaption></center>\n",
        "</figure>"
      ]
    },
    {
      "cell_type": "code",
      "metadata": {
        "colab": {
          "base_uri": "https://localhost:8080/"
        },
        "id": "ILC-Xaw3k9g-",
        "outputId": "c1debbe6-6400-4e93-90bc-1caaa506ae62"
      },
      "source": [
        "# Write a Python Program To perform indexing Operations in List\n",
        "\n",
        "#accessing individual element\n",
        "print('First=%d, Last=%d' %(marks[0], marks[4]))  #display first and last element\n",
        "\n",
        "#negative indexing \n",
        "print(\"\\naccesing element with negative indexing at position -3:-\",marks[-3])\n",
        "\n",
        "#slicing operation \n",
        "print(\"\\n slicing the list:-\",sub[0:3])                                #pice of list containing 0th to 2nd elemet\n",
        "\n",
        "#slicing list with negative indexing\n",
        "print(\"\\n slicing with negative indexing -3 to -1\",sub[-3:-1])\n",
        "\n",
        "#slicing with step size\n",
        "print(\"\\nslicing list with step size:-\",x[0:3:2])\n",
        "\n",
        "#slicing with no step size given\n",
        "print(\"\\n slicing with no step size given:-\",x[::])\n",
        "\n",
        "#slicing with negative step size\n",
        "print(\"\\n slicing with negative step size:-\", x[-1:-3:-2])"
      ],
      "execution_count": null,
      "outputs": [
        {
          "output_type": "stream",
          "text": [
            "First=10, Last=50\n",
            "\n",
            "accesing element with negative indexing at position -3:- 30\n",
            "\n",
            " slicing the list:- ['english', 'Hindi', 'Marathi']\n",
            "\n",
            " slicing with negative indexing -3 to -1 ['Marathi', 'Mathematics']\n",
            "\n",
            "slicing list with step size:- [10, 10.5]\n",
            "\n",
            " slicing with no step size given:- [10, 20, 10.5, 2.25, 'Ganesh', 'vaishu']\n",
            "\n",
            " slicing with negative step size:- ['vaishu']\n"
          ],
          "name": "stdout"
        }
      ]
    },
    {
      "cell_type": "markdown",
      "metadata": {
        "id": "mIRvi1V-zJ-T"
      },
      "source": [
        "## Creating a List using Range function\n",
        "**range():-**function to generate a sequence of integer which can be stored in a list. \n",
        "\n",
        "**Syntax:-** **range(start,stop,stepsize)**\n",
        "\n",
        "* if we do not mention the start it is assumed to be 0 and stepsize is taken as 1.\n",
        "* the range of numbers stops one element prior to stop i.e for 'n' number of element in range stop point will be '(n-1)'.\n"
      ]
    },
    {
      "cell_type": "code",
      "metadata": {
        "colab": {
          "base_uri": "https://localhost:8080/"
        },
        "id": "6wZXJ4vX0n7n",
        "outputId": "a242f0db-8e60-4d40-aa01-eaa4b415c9ed"
      },
      "source": [
        "#write a python program to display the range of number from 0 to 10\n",
        "\n",
        "x = list(range(0,10))\n",
        "print(x)\n",
        "\n",
        "y= list(range(0,10,2))\n",
        "print(\"\\n\",y)\n"
      ],
      "execution_count": null,
      "outputs": [
        {
          "output_type": "stream",
          "text": [
            "[0, 1, 2, 3, 4, 5, 6, 7, 8, 9]\n",
            "\n",
            " [0, 2, 4, 6, 8]\n"
          ],
          "name": "stdout"
        }
      ]
    },
    {
      "cell_type": "markdown",
      "metadata": {
        "id": "JMQHanE325yy"
      },
      "source": [
        "**range()function does not return list of numbers. it returns only range class object that stores data about 'start','stop','stepsize' example as follow.** "
      ]
    },
    {
      "cell_type": "code",
      "metadata": {
        "colab": {
          "base_uri": "https://localhost:8080/"
        },
        "id": "bjkH6nge02LU",
        "outputId": "b34abe9d-9815-4c54-e0a1-9051fb1ce3fc"
      },
      "source": [
        "print(range(4,9,2))"
      ],
      "execution_count": null,
      "outputs": [
        {
          "output_type": "stream",
          "text": [
            "range(4, 9, 2)\n"
          ],
          "name": "stdout"
        }
      ]
    },
    {
      "cell_type": "markdown",
      "metadata": {
        "id": "rI7KHdCE3mSZ"
      },
      "source": [
        "## For loop with range() function\n",
        "\n",
        "* range object should be used in for loop to get the range of numbers desired by programmer. \n",
        "* hence range object is iterable,example as follow"
      ]
    },
    {
      "cell_type": "code",
      "metadata": {
        "colab": {
          "base_uri": "https://localhost:8080/"
        },
        "id": "Py7u-Pcr3dhO",
        "outputId": "8a565d69-9a71-44d3-d2d5-3b613a1d4d0d"
      },
      "source": [
        "for i in range(4,9,2):\n",
        "  print(i)"
      ],
      "execution_count": null,
      "outputs": [
        {
          "output_type": "stream",
          "text": [
            "4\n",
            "6\n",
            "8\n"
          ],
          "name": "stdout"
        }
      ]
    },
    {
      "cell_type": "code",
      "metadata": {
        "colab": {
          "base_uri": "https://localhost:8080/"
        },
        "id": "-clxvoYT4An_",
        "outputId": "aee4ce24-a4df-42df-a42e-a13a209581da"
      },
      "source": [
        "# Write a Python program to create lists using range() function.\n",
        "\n",
        "#creating list using list()\n",
        "lst = list(range(10))\n",
        "print(lst)    \n",
        "print()  \n",
        "\n",
        "\n",
        "#create a list with integer from 5 to 9 using range() function\n",
        "lst1 = list(range(5,10))\n",
        "for i in lst1:\n",
        "  print(i, ',',end=\" \")\n",
        "\n",
        "print(\"\\n\")\n",
        "\n",
        "#create a list of odd number \n",
        "lst2 = list(range(5,10,2))\n",
        "for i in lst2:\n",
        "  print(i,\",\",end=\"\")\n",
        "print()\n"
      ],
      "execution_count": null,
      "outputs": [
        {
          "output_type": "stream",
          "text": [
            "[0, 1, 2, 3, 4, 5, 6, 7, 8, 9]\n",
            "\n",
            "5 , 6 , 7 , 8 , 9 , \n",
            "\n",
            "5 ,7 ,9 ,\n"
          ],
          "name": "stdout"
        }
      ]
    },
    {
      "cell_type": "markdown",
      "metadata": {
        "id": "SO1wz8SN99vU"
      },
      "source": [
        "#while loop & len() function\n",
        "\n",
        "* like for loop we can iterate list using while loop also \n",
        "* len() function is useful to know the number of elements in the list.\n",
        "* **len(list)** gives total number of element in list. \n"
      ]
    },
    {
      "cell_type": "code",
      "metadata": {
        "colab": {
          "base_uri": "https://localhost:8080/"
        },
        "id": "ezMax9Q79OcN",
        "outputId": "9b1f3c4e-c99c-42c0-ec7b-f05defac900c"
      },
      "source": [
        "# write a python program to access list element using loops.\n",
        "\n",
        "lst = [10,20,30,40,50]\n",
        "\n",
        "#using while loop\n",
        "print('using while loop')\n",
        "i=0\n",
        "while i<len(lst):              #repeat from 0 to length of list\n",
        "  print(lst[i])\n",
        "  i=i+1\n",
        "\n",
        "\n",
        "#using for loop\n",
        "print('\\nusing for loop')\n",
        "for i in lst:                     #repeat for all element\n",
        "  print(i)"
      ],
      "execution_count": null,
      "outputs": [
        {
          "output_type": "stream",
          "text": [
            "using while loop\n",
            "10\n",
            "20\n",
            "30\n",
            "40\n",
            "50\n",
            "\n",
            "using for loop\n",
            "10\n",
            "20\n",
            "30\n",
            "40\n",
            "50\n"
          ],
          "name": "stdout"
        }
      ]
    },
    {
      "cell_type": "markdown",
      "metadata": {
        "id": "wXaJ0jLCDzxm"
      },
      "source": [
        "## Updating the element of the list\n",
        "\n",
        "* we can modify the contents of a list. \n",
        "* append:- appending an element means adding an element at the end of list.\n"
      ]
    },
    {
      "cell_type": "code",
      "metadata": {
        "colab": {
          "base_uri": "https://localhost:8080/"
        },
        "id": "jm8Abw5oA5hC",
        "outputId": "fa29cc6e-4653-4696-bd98-da6ce8ca2a93"
      },
      "source": [
        "#write a python program to append an element to list\n",
        "lst = list(range(1,5))                      #creating a list() and range()\n",
        "print(lst)\n",
        "\n",
        "lst.append(9)\n",
        "print(lst)"
      ],
      "execution_count": null,
      "outputs": [
        {
          "output_type": "stream",
          "text": [
            "[1, 2, 3, 4]\n",
            "[1, 2, 3, 4, 9]\n"
          ],
          "name": "stdout"
        }
      ]
    },
    {
      "cell_type": "markdown",
      "metadata": {
        "id": "rHICh5iB34fJ"
      },
      "source": [
        "**Updating:-** Updating an element means changing the value of the element in the list.\n",
        "* this can be done by accessing the specific element using indexing or slicing and assigning a new value."
      ]
    },
    {
      "cell_type": "code",
      "metadata": {
        "colab": {
          "base_uri": "https://localhost:8080/"
        },
        "id": "nMMjlh093rzY",
        "outputId": "bf0f3be6-4b8c-477f-800e-1f6a81ff86b2"
      },
      "source": [
        "#write a python Program to update 1st a element in list\n",
        "lst[1]=8\n",
        "print(lst)"
      ],
      "execution_count": null,
      "outputs": [
        {
          "output_type": "stream",
          "text": [
            "[1, 8, 3, 4, 9]\n"
          ],
          "name": "stdout"
        }
      ]
    },
    {
      "cell_type": "code",
      "metadata": {
        "colab": {
          "base_uri": "https://localhost:8080/"
        },
        "id": "u-HUx8fO4d6-",
        "outputId": "c451153c-e8ee-4dc1-c4de-ff0081b24faa"
      },
      "source": [
        "#write a python program to updat 1st and 2nd elements od list.\n",
        "\n",
        "lst[1:3]=10,11 \n",
        "print(lst)"
      ],
      "execution_count": null,
      "outputs": [
        {
          "output_type": "stream",
          "text": [
            "[1, 10, 11, 4, 9]\n"
          ],
          "name": "stdout"
        }
      ]
    },
    {
      "cell_type": "markdown",
      "metadata": {
        "id": "h4DNtIBS46mi"
      },
      "source": [
        "**del():-**Deleting an element from the list can be done using **\"del\"** ststement. the del ststement takes the position number of the element to be deleted."
      ]
    },
    {
      "cell_type": "code",
      "metadata": {
        "colab": {
          "base_uri": "https://localhost:8080/"
        },
        "id": "DFIXRKu04373",
        "outputId": "5bede2fa-cbe0-49a5-a96b-343f40cc3085"
      },
      "source": [
        "#write a python program to delete 1st element from lst\n",
        "del lst[1]\n",
        "print(lst)"
      ],
      "execution_count": null,
      "outputs": [
        {
          "output_type": "stream",
          "text": [
            "[1, 11, 4, 9]\n"
          ],
          "name": "stdout"
        }
      ]
    },
    {
      "cell_type": "markdown",
      "metadata": {
        "id": "LeAYPEzE5gCd"
      },
      "source": [
        "**remove():-** we can also delete an element using the remove() method. In this method, we should pass the element to be deleted."
      ]
    },
    {
      "cell_type": "code",
      "metadata": {
        "colab": {
          "base_uri": "https://localhost:8080/"
        },
        "id": "D7OmepS25d5Y",
        "outputId": "78ad7e90-c509-4062-82bb-2a26d01f2621"
      },
      "source": [
        "# write a python program to remove 11  from list\n",
        "lst.remove(11)\n",
        "print(lst)"
      ],
      "execution_count": null,
      "outputs": [
        {
          "output_type": "stream",
          "text": [
            "[1, 4, 9]\n"
          ],
          "name": "stdout"
        }
      ]
    },
    {
      "cell_type": "markdown",
      "metadata": {
        "id": "eymdyBaYms50"
      },
      "source": [
        "**pop():-** Removes the ending element from the list\n"
      ]
    },
    {
      "cell_type": "code",
      "metadata": {
        "colab": {
          "base_uri": "https://localhost:8080/"
        },
        "id": "JlVqIOFpm2VF",
        "outputId": "5de74018-958c-47e2-cc58-fc3a26e691c7"
      },
      "source": [
        "# write a python Program to remove the ending element from list\n",
        "print(lst.pop())"
      ],
      "execution_count": null,
      "outputs": [
        {
          "output_type": "stream",
          "text": [
            "julia\n"
          ],
          "name": "stdout"
        }
      ]
    },
    {
      "cell_type": "markdown",
      "metadata": {
        "id": "yrALKF0fnE-p"
      },
      "source": [
        "**sort():-** Sorts the element of the list into ascending order"
      ]
    },
    {
      "cell_type": "code",
      "metadata": {
        "colab": {
          "base_uri": "https://localhost:8080/"
        },
        "id": "lf430U0NnOYI",
        "outputId": "fa563cd5-f20c-4098-d44a-756e2dee514e"
      },
      "source": [
        "#write a python program to sort the list\n",
        "\n",
        "lst = [\"Ram\",\"Sita\",\"Gita\",\"Mohan\"]\n",
        "lst.sort()\n",
        "print(lst)"
      ],
      "execution_count": null,
      "outputs": [
        {
          "output_type": "stream",
          "text": [
            "['Gita', 'Mohan', 'Ram', 'Sita']\n"
          ],
          "name": "stdout"
        }
      ]
    },
    {
      "cell_type": "code",
      "metadata": {
        "colab": {
          "base_uri": "https://localhost:8080/"
        },
        "id": "KvFQaWpDoJuY",
        "outputId": "02e1cb09-4506-4230-dc04-730446b6aa78"
      },
      "source": [
        "# Write a Python Program to retrive the list in reverse order using sort().\n",
        "lst.sort(reverse=True)\n",
        "print(lst)"
      ],
      "execution_count": null,
      "outputs": [
        {
          "output_type": "stream",
          "text": [
            "['Sita', 'Ram', 'Mohan', 'Gita']\n"
          ],
          "name": "stdout"
        }
      ]
    },
    {
      "cell_type": "markdown",
      "metadata": {
        "id": "DfwtQvB26M6f"
      },
      "source": [
        "**reverse():-**to retrive the element of a list in reverse order reverse() method is used."
      ]
    },
    {
      "cell_type": "code",
      "metadata": {
        "colab": {
          "base_uri": "https://localhost:8080/"
        },
        "id": "8VtDQGqN6Js5",
        "outputId": "a839aabc-1f97-40a0-bf68-677e53368967"
      },
      "source": [
        "#write a python program to retrive the element in reverse order\n",
        "lst.reverse()\n",
        "print(lst)"
      ],
      "execution_count": null,
      "outputs": [
        {
          "output_type": "stream",
          "text": [
            "[9, 4, 1]\n"
          ],
          "name": "stdout"
        }
      ]
    },
    {
      "cell_type": "code",
      "metadata": {
        "colab": {
          "base_uri": "https://localhost:8080/"
        },
        "id": "VXe9B4dO6oWO",
        "outputId": "2a7c52b8-5161-44c2-aaf1-2bd77cca6e55"
      },
      "source": [
        "# write a python program to reverse a list without using reverse() method\n",
        "\n",
        "i =len(lst)-1\n",
        "while i>=0:               # i represents internally 4\n",
        "  print(lst[i])           #display from 4th to 0th element\n",
        "  i-=1                    #decrease the position every time."
      ],
      "execution_count": null,
      "outputs": [
        {
          "output_type": "stream",
          "text": [
            "1\n",
            "4\n",
            "9\n"
          ],
          "name": "stdout"
        }
      ]
    },
    {
      "cell_type": "code",
      "metadata": {
        "colab": {
          "base_uri": "https://localhost:8080/"
        },
        "id": "BbPTz4Co7Nv-",
        "outputId": "7ae4241a-ed3c-4269-be0f-df72f4bc64a6"
      },
      "source": [
        "# write a python to access the element in reverse order by using negative indexing.\n",
        "\n",
        "i=-1          #last element\n",
        "while i>=-len(lst):               #diaplay from -1th to -5th element\n",
        "  print(lst[i])\n",
        "  i-=1                    #decrease the position every time\n",
        "\n"
      ],
      "execution_count": null,
      "outputs": [
        {
          "output_type": "stream",
          "text": [
            "1\n",
            "4\n",
            "9\n"
          ],
          "name": "stdout"
        }
      ]
    },
    {
      "cell_type": "code",
      "metadata": {
        "colab": {
          "base_uri": "https://localhost:8080/"
        },
        "id": "mEkxzC8d80iM",
        "outputId": "45582974-2f8b-447e-a527-e6688ef238e3"
      },
      "source": [
        "# Write a python Program to display the elemnt of a list in reverse order.\n",
        "\n",
        "days = ['sunday','monday','tuesday','wednesday','Thursday']\n",
        "\n",
        "print('\\nin reverse order: ')\n",
        "i=len(days)-1\n",
        "while i>=0:\n",
        "  print(days[i])\n",
        "  i-=1"
      ],
      "execution_count": null,
      "outputs": [
        {
          "output_type": "stream",
          "text": [
            "\n",
            "in reverse order: \n",
            "Thursday\n",
            "wednesday\n",
            "tuesday\n",
            "monday\n",
            "sunday\n"
          ],
          "name": "stdout"
        }
      ]
    },
    {
      "cell_type": "code",
      "metadata": {
        "colab": {
          "base_uri": "https://localhost:8080/"
        },
        "id": "cqTWFwSW9t5C",
        "outputId": "822e9c8a-14d1-4747-9f89-34d829f20120"
      },
      "source": [
        "#using negative indexing\n",
        "\n",
        "i=-1\n",
        "while i>=-len(days):\n",
        "  print(days[i])\n",
        "  i-=1"
      ],
      "execution_count": null,
      "outputs": [
        {
          "output_type": "stream",
          "text": [
            "Thursday\n",
            "wednesday\n",
            "tuesday\n",
            "monday\n",
            "sunday\n"
          ],
          "name": "stdout"
        }
      ]
    },
    {
      "cell_type": "markdown",
      "metadata": {
        "id": "z7Gh-V2k-hBt"
      },
      "source": []
    },
    {
      "cell_type": "markdown",
      "metadata": {
        "id": "yo3be24tT_4r"
      },
      "source": [
        "##Concatenation of Two List\n",
        "* we can simply use **'+'** operator on two list to join them"
      ]
    },
    {
      "cell_type": "code",
      "metadata": {
        "colab": {
          "base_uri": "https://localhost:8080/"
        },
        "id": "-W1HKG4_-c1W",
        "outputId": "793d5611-7134-4004-8926-8e8fcd30b2df"
      },
      "source": [
        "#write a python Program to concatenate two list\n",
        "x = [10,20,30,40,50]\n",
        "y = [100,110,120]\n",
        "\n",
        "print(x+y)"
      ],
      "execution_count": null,
      "outputs": [
        {
          "output_type": "stream",
          "text": [
            "[10, 20, 30, 40, 50, 100, 110, 120]\n"
          ],
          "name": "stdout"
        }
      ]
    },
    {
      "cell_type": "markdown",
      "metadata": {
        "id": "5P4URMYMUgPt"
      },
      "source": [
        "## Repetition of Lsit\n",
        "\n",
        "* we can repeat the element of a list 'n' number of times using **'*'** operator."
      ]
    },
    {
      "cell_type": "code",
      "metadata": {
        "colab": {
          "base_uri": "https://localhost:8080/"
        },
        "id": "J171zA-qUeWP",
        "outputId": "f7d7af19-1374-4817-8be1-a23a71d4c080"
      },
      "source": [
        "# write a python program to perform repetation of list\n",
        "print(x*2)"
      ],
      "execution_count": null,
      "outputs": [
        {
          "output_type": "stream",
          "text": [
            "[10, 20, 30, 40, 50, 10, 20, 30, 40, 50]\n"
          ],
          "name": "stdout"
        }
      ]
    },
    {
      "cell_type": "markdown",
      "metadata": {
        "id": "YdZOea1DU5Co"
      },
      "source": [
        "## Membership in List\n",
        "* we can check if an element is a member of a list or not by using 'in' and 'not in' operator.\n",
        "* if the element is a member of the list, then 'in' operator returns True else False and vice versa for for 'not in'."
      ]
    },
    {
      "cell_type": "code",
      "metadata": {
        "colab": {
          "base_uri": "https://localhost:8080/"
        },
        "id": "LhI7ZbsgU2wu",
        "outputId": "2f9c63e2-d25c-45c2-95ad-6d9e7e0a610e"
      },
      "source": [
        "# write a python program to check whether an element is member of list or not.\n",
        "\n",
        "#using in operator\n",
        "x = [10,20,30,40,50]\n",
        "a = 20\n",
        "print(a in x)\n",
        "\n",
        "#using not in operator\n",
        "print(a not in x)"
      ],
      "execution_count": null,
      "outputs": [
        {
          "output_type": "stream",
          "text": [
            "True\n",
            "False\n"
          ],
          "name": "stdout"
        }
      ]
    },
    {
      "cell_type": "code",
      "metadata": {
        "id": "Txeyha7ZV1uM"
      },
      "source": [],
      "execution_count": null,
      "outputs": []
    },
    {
      "cell_type": "markdown",
      "metadata": {
        "id": "5LeWU6lEWCP1"
      },
      "source": [
        "## Aliasing and cloning Lists\n",
        "\n",
        "* Giving a new name to an exixting list is called 'aliasing'.\n",
        "* The new name is called 'alias name'"
      ]
    },
    {
      "cell_type": "code",
      "metadata": {
        "colab": {
          "base_uri": "https://localhost:8080/"
        },
        "id": "i_ErYSs4WVJC",
        "outputId": "0335b0a4-41d4-4019-e527-3a327c04e093"
      },
      "source": [
        "#write a python program to alias with another name\n",
        "\n",
        "x = [10,20,30,40,50]\n",
        "y=x\n",
        "\n",
        "print(x)\n",
        "print(y)"
      ],
      "execution_count": null,
      "outputs": [
        {
          "output_type": "stream",
          "text": [
            "[10, 20, 30, 40, 50]\n",
            "[10, 20, 30, 40, 50]\n"
          ],
          "name": "stdout"
        }
      ]
    },
    {
      "cell_type": "code",
      "metadata": {
        "colab": {
          "base_uri": "https://localhost:8080/"
        },
        "id": "jaD9umMoWlFI",
        "outputId": "b7818bf6-d519-47df-f204-5f0c0b3a694c"
      },
      "source": [
        "x[1]=99                   #modify 1st element in x\n",
        "print(x)\n",
        "print(y)"
      ],
      "execution_count": null,
      "outputs": [
        {
          "output_type": "stream",
          "text": [
            "[10, 99, 30, 40, 50]\n",
            "[10, 99, 30, 40, 50]\n"
          ],
          "name": "stdout"
        }
      ]
    },
    {
      "cell_type": "markdown",
      "metadata": {
        "id": "CcFXGhLqW9Lp"
      },
      "source": [
        "* if programmer wants two independent lsits, should not go for aliasing \n",
        "* programmer can use cloning or copying\n",
        "* obtaining exact copy of an existing object (or list) is called 'cloning', to clone list we can take help of slicing operations.\n",
        "* any modification to original list will not reflect in colned list and vice versa."
      ]
    },
    {
      "cell_type": "code",
      "metadata": {
        "colab": {
          "base_uri": "https://localhost:8080/"
        },
        "id": "kuueac_WW7ux",
        "outputId": "62ec185e-ea4b-4d40-f62d-229f8c08d067"
      },
      "source": [
        "# write a python program to clone a list\n",
        "\n",
        "x = [10,20,30,40,50]\n",
        "y=x[:]\n",
        "\n",
        "print(\"\\nbefore modification\",x)\n",
        "print(\"before modification\",y)\n",
        "\n",
        "#modifying 1st element in x\n",
        "x[1]=90\n",
        "print(\"\\nafter modifiction:-\",x)\n",
        "print(\"after modification\",y)"
      ],
      "execution_count": null,
      "outputs": [
        {
          "output_type": "stream",
          "text": [
            "\n",
            "before modification [10, 20, 30, 40, 50]\n",
            "before modification [10, 20, 30, 40, 50]\n",
            "\n",
            "after modifiction:- [10, 90, 30, 40, 50]\n",
            "after modification [10, 20, 30, 40, 50]\n"
          ],
          "name": "stdout"
        }
      ]
    },
    {
      "cell_type": "markdown",
      "metadata": {
        "id": "ynIiz2W-ZMX6"
      },
      "source": [
        "**copy():-** copying element of one list to another using copy() method.\n",
        "\n"
      ]
    },
    {
      "cell_type": "code",
      "metadata": {
        "colab": {
          "base_uri": "https://localhost:8080/"
        },
        "id": "fV-x9MMsYBTj",
        "outputId": "e0150949-5ee5-4713-a137-83e9920fa453"
      },
      "source": [
        "y = x.copy()\n",
        "print(y)"
      ],
      "execution_count": null,
      "outputs": [
        {
          "output_type": "stream",
          "text": [
            "[10, 90, 30, 40, 50]\n"
          ],
          "name": "stdout"
        }
      ]
    },
    {
      "cell_type": "markdown",
      "metadata": {
        "id": "g5oQHy0mhZMw"
      },
      "source": [
        "## Method to Process Lists"
      ]
    },
    {
      "cell_type": "code",
      "metadata": {
        "id": "jImv3FRWZjqg"
      },
      "source": [
        "lst = [10,20,30,40, \"sam\",\"tommy\",\"julia\"]\n",
        "\n",
        "numlst=[10,100,3,5,89,10]\n"
      ],
      "execution_count": null,
      "outputs": []
    },
    {
      "cell_type": "markdown",
      "metadata": {
        "id": "AQzPvPQ2hoCo"
      },
      "source": [
        "**len():-** The function len() is useful to find the number of elements in a list."
      ]
    },
    {
      "cell_type": "code",
      "metadata": {
        "colab": {
          "base_uri": "https://localhost:8080/"
        },
        "id": "G4v4zRM_hnL2",
        "outputId": "7497b570-0f58-48a1-83c0-5a8f95d26b01"
      },
      "source": [
        "#write a python program to length/number of elements in list.\n",
        "n = len(lst)\n",
        "print(n)"
      ],
      "execution_count": null,
      "outputs": [
        {
          "output_type": "stream",
          "text": [
            "7\n"
          ],
          "name": "stdout"
        }
      ]
    },
    {
      "cell_type": "markdown",
      "metadata": {
        "id": "mg1TKRqSiC8l"
      },
      "source": [
        "**min:-** The min() function returns the smallest element in the list, if list is numeric data type."
      ]
    },
    {
      "cell_type": "code",
      "metadata": {
        "colab": {
          "base_uri": "https://localhost:8080/"
        },
        "id": "T0u_dVvOh-uz",
        "outputId": "31cec262-5bd0-4354-d5b4-8e289421c3c6"
      },
      "source": [
        "# write a python program to find minimum value \n",
        "m = min(numlst)\n",
        "print(m)"
      ],
      "execution_count": null,
      "outputs": [
        {
          "output_type": "stream",
          "text": [
            "3\n"
          ],
          "name": "stdout"
        }
      ]
    },
    {
      "cell_type": "markdown",
      "metadata": {
        "id": "ETc4GGeSqRKM"
      },
      "source": [
        "**max():-** rteurns the biggest elements from a list"
      ]
    },
    {
      "cell_type": "code",
      "metadata": {
        "colab": {
          "base_uri": "https://localhost:8080/"
        },
        "id": "KEpqmImXqbgn",
        "outputId": "fc48ffec-24e6-4f5c-8e71-d4ad98e5a1a5"
      },
      "source": [
        "#write a python program to find biggest element in list\n",
        "n1=max(numlst)\n",
        "print(n1)"
      ],
      "execution_count": null,
      "outputs": [
        {
          "output_type": "stream",
          "text": [
            "100\n"
          ],
          "name": "stdout"
        }
      ]
    },
    {
      "cell_type": "markdown",
      "metadata": {
        "id": "MGFbrGz0jAcl"
      },
      "source": [
        "**sum():-** Returns sum of all elements in the list"
      ]
    },
    {
      "cell_type": "code",
      "metadata": {
        "colab": {
          "base_uri": "https://localhost:8080/"
        },
        "id": "ist_tvK4iRZA",
        "outputId": "cf715ca8-ec04-4621-ef0a-c4946fda4bc3"
      },
      "source": [
        "# write a python program to find sum of all elenet in list\n",
        "print(sum(numlst))"
      ],
      "execution_count": null,
      "outputs": [
        {
          "output_type": "stream",
          "text": [
            "207\n"
          ],
          "name": "stdout"
        }
      ]
    },
    {
      "cell_type": "markdown",
      "metadata": {
        "id": "dgLGOYAdjW_C"
      },
      "source": [
        "**index:-** Written first occurrence of x in the list.\n"
      ]
    },
    {
      "cell_type": "code",
      "metadata": {
        "colab": {
          "base_uri": "https://localhost:8080/"
        },
        "id": "-nk_LeNUjUjH",
        "outputId": "ac6d5e52-0f25-4e82-902a-e1629e3add45"
      },
      "source": [
        "# write a python program to find index of given element\n",
        "print(numlst.index(10))"
      ],
      "execution_count": null,
      "outputs": [
        {
          "output_type": "stream",
          "text": [
            "0\n"
          ],
          "name": "stdout"
        }
      ]
    },
    {
      "cell_type": "markdown",
      "metadata": {
        "id": "qT1E-k9BkXdX"
      },
      "source": [
        "**extend():-** appends one list to another list."
      ]
    },
    {
      "cell_type": "code",
      "metadata": {
        "id": "GpLBIWiCjuqR"
      },
      "source": [
        "# write a python program to extend one list to another\n",
        "lst.extend(numlst)"
      ],
      "execution_count": null,
      "outputs": []
    },
    {
      "cell_type": "markdown",
      "metadata": {
        "id": "BWVUovRyoiZv"
      },
      "source": [
        "**clear():-** Delete all the element in the list"
      ]
    },
    {
      "cell_type": "code",
      "metadata": {
        "colab": {
          "base_uri": "https://localhost:8080/"
        },
        "id": "HQaL_h5goq_l",
        "outputId": "adee4ab5-da06-486c-eb17-f8db66d84a10"
      },
      "source": [
        "print(lst.clear())"
      ],
      "execution_count": null,
      "outputs": [
        {
          "output_type": "stream",
          "text": [
            "None\n"
          ],
          "name": "stdout"
        }
      ]
    },
    {
      "cell_type": "markdown",
      "metadata": {
        "id": "hHlCmGYOq0dR"
      },
      "source": [
        "# Programming Task\n",
        "\n",
        "from here we try to cover programming question asked in interviews intensity from easy to hard "
      ]
    },
    {
      "cell_type": "code",
      "metadata": {
        "colab": {
          "base_uri": "https://localhost:8080/"
        },
        "id": "xJd0KuUBouoW",
        "outputId": "70511a52-bd4c-488c-c5fa-bea4841e9dcd"
      },
      "source": [
        "# Write a Python Program to find maximum and minimum of element in list without using min() max() method\n",
        "\n",
        "#logic\n",
        "#big =x[0],small = x[0]\n",
        "#if x[i]>big: big=x[i]\n",
        "#if x[i]<small:small=x[i]\n",
        "\n",
        "x = []\n",
        "\n",
        "print('How many elements?', end='')\n",
        "n = int(input())\n",
        "\n",
        "for i in range(n):\n",
        "  print('Enter elements', end=\" \")\n",
        "  x.append(int(input()))\n",
        "\n",
        "print('The list is:',x)\n",
        "\n",
        "big=x[0]\n",
        "small=x[0]\n",
        "\n",
        "for i in range(1,n):\n",
        "  if x[i]>big: big=x[i]\n",
        "\n",
        "  if x[i]<small: small=x[i]\n",
        "\n",
        "print('Maximum is:',big)\n",
        "print('minimum is', small)"
      ],
      "execution_count": null,
      "outputs": [
        {
          "output_type": "stream",
          "text": [
            "How many elements?5\n",
            "Enter elements 20\n",
            "Enter elements 10\n",
            "Enter elements 5\n",
            "Enter elements 20\n",
            "Enter elements 15\n",
            "The list is: [20, 10, 5, 20, 15]\n",
            "Maximum is: 20\n",
            "minimum is 5\n"
          ],
          "name": "stdout"
        }
      ]
    },
    {
      "cell_type": "code",
      "metadata": {
        "colab": {
          "base_uri": "https://localhost:8080/"
        },
        "id": "b1pj45M0up5D",
        "outputId": "8e3c07d1-8144-40e8-aa2f-fd5169fd004d"
      },
      "source": [
        "# Write a Python program to sort the list elements using bubble sort technique\n",
        "\n",
        "#logic\n",
        "# compare all the elements from 0 to n by taking lsit x[j] compared to x[j+1]\n",
        "#ifx[j]>x[j+1]-> Swap (assending order,smaller element first)\n",
        "# n will be n-1\n",
        "#no more element flag=False\n",
        "\n",
        "\n",
        "#create an empty list to store integers\n",
        "x =[]\n",
        "\n",
        "#stroe the elemnts into list x\n",
        "print('How many elements', end ='')\n",
        "n=int(input())\n",
        "\n",
        "for i in range(n):\n",
        "  print('Enter the element',end=\" \")\n",
        "  x.append(int(input()))\n",
        "\n",
        "print('original list',x)\n",
        "\n",
        "\n",
        "# bubble sort\n",
        "flag = False\n",
        "for i in range(n-1):\n",
        "  for j in range(n-1-i):\n",
        "    if x[j]>x[j+1]:\n",
        "      t = x[j]\n",
        "      x[j]=x[j+1]\n",
        "      x[j+1]=t\n",
        "      flag =True\n",
        "  if flag==False:\n",
        "    break\n",
        "  else:\n",
        "    flag= False\n",
        "\n",
        "print('Sorted list:',x)"
      ],
      "execution_count": null,
      "outputs": [
        {
          "output_type": "stream",
          "text": [
            "How many elements5\n",
            "Enter the element 1\n",
            "Enter the element 5\n",
            "Enter the element 4\n",
            "Enter the element 2\n",
            "Enter the element 9\n",
            "original list [1, 5, 4, 2, 9]\n",
            "Sorted list: [1, 2, 4, 5, 9]\n"
          ],
          "name": "stdout"
        }
      ]
    },
    {
      "cell_type": "code",
      "metadata": {
        "id": "MmfKijWkDisW",
        "colab": {
          "base_uri": "https://localhost:8080/"
        },
        "outputId": "fffd52a4-0186-4335-8af0-50564696ebbe"
      },
      "source": [
        "# write a Python Program to know how many times an element occured in the list without using count() method.\n",
        "\n",
        "#Take an empty list\n",
        "x=[]\n",
        "\n",
        "#accept input into n\n",
        "n = int(input('How many elements? '))\n",
        "\n",
        "#repeat for n times\n",
        "for i in range(n):\n",
        "  print('Enter element:', end='')\n",
        "  x.append(int(input()))                  #adding element to list\n",
        "\n",
        "print('The lsit is:',x)                   #display the list\n",
        "y = int(input('Enter element to count: '))\n",
        "c=0\n",
        "for i in x:\n",
        "  if(y==i): c+=1\n",
        "print('{} is found {} times'.format(y,c))"
      ],
      "execution_count": null,
      "outputs": [
        {
          "output_type": "stream",
          "text": [
            "How many elements? 5\n",
            "Enter element:40\n",
            "Enter element:20\n",
            "Enter element:30\n",
            "Enter element:40\n",
            "Enter element:50\n",
            "The lsit is: [40, 20, 30, 40, 50]\n",
            "Enter element to count: 40\n",
            "40 is found 2 times\n"
          ],
          "name": "stdout"
        }
      ]
    },
    {
      "cell_type": "markdown",
      "metadata": {
        "id": "z1oapkMcImn7"
      },
      "source": [
        "## Convering List data type to another data type"
      ]
    },
    {
      "cell_type": "code",
      "metadata": {
        "colab": {
          "base_uri": "https://localhost:8080/"
        },
        "id": "NMiQ5kmZFgql",
        "outputId": "cdf643d0-33dc-4bc5-8120-bb501bc1964c"
      },
      "source": [
        "# write a Python program to find common elements in two lists.\n",
        "\n",
        "#here we will be using methods form set data type, yes it the same set we studied in school\n",
        "\n",
        "scholar1 = ['vinay','krishna','saraswati','Govind']\n",
        "scholar2 = ['rosy','Govind','Tanushree','vainay','vishal']\n",
        "\n",
        "#convering lists to sets\n",
        "s1 =set(scholar1)\n",
        "s2 = set(scholar2)\n",
        "\n",
        "\n",
        "#find the intersection of two sets\n",
        "s3 = s1.intersection(s2)\n",
        "\n",
        "#convert the resultant set into list\n",
        "common=list(s3)\n",
        "\n",
        "#display list\n",
        "print(common)\n"
      ],
      "execution_count": null,
      "outputs": [
        {
          "output_type": "stream",
          "text": [
            "['Govind']\n"
          ],
          "name": "stdout"
        }
      ]
    },
    {
      "cell_type": "markdown",
      "metadata": {
        "id": "YZglwAz3J8Vi"
      },
      "source": [
        "##Storing Different Data Type in a List.\n"
      ]
    },
    {
      "cell_type": "code",
      "metadata": {
        "id": "nxr-j8OOJ4jt",
        "colab": {
          "base_uri": "https://localhost:8080/"
        },
        "outputId": "c9928ece-ed61-4d37-b8ad-4cf06cb04aa5"
      },
      "source": [
        "#write a Python program to create a list with enployee data and then retrive a particular employee details.\n",
        "\n",
        "#take empty list\n",
        "emp = []\n",
        "n = int(input('How many employees? '))    #accept input into n\n",
        "\n",
        "for i in range(n):\n",
        "  print('Enter id: ',end=\"\")\n",
        "  emp.append(int(input()))\n",
        "  print('Enter name:', end =\"\")\n",
        "  emp.append(input())\n",
        "  print('Ente salary:', end=\"\")\n",
        "  emp.append(float(input()))\n",
        "\n",
        "print('The list is created with employee data.')\n",
        "id = int(input('Enter employee id: '))\n",
        "\n",
        "#display employee details upon taking id.\n",
        "for i in range(len(emp)):\n",
        "  if id ==emp[i]:\n",
        "    print('Id={:d} ,Name={:s}, salary={:2f}'.format(emp[i],emp[i+1],emp[i+2]))\n",
        "    break\n",
        "\n"
      ],
      "execution_count": null,
      "outputs": [
        {
          "output_type": "stream",
          "text": [
            "How many employees? 2\n",
            "Enter id: 10\n",
            "Enter name:Jagdish Chavan\n",
            "Ente salary:15000\n",
            "Enter id: 11\n",
            "Enter name:Pratik Vighe\n",
            "Ente salary:15000\n",
            "The list is created with employee data.\n",
            "Enter employee id: 10\n",
            "Id=10 ,Name=Jagdish Chavan, salary=15000.000000\n"
          ],
          "name": "stdout"
        }
      ]
    },
    {
      "cell_type": "markdown",
      "metadata": {
        "id": "QyB-v95iYCQf"
      },
      "source": [
        "##Nested List\n",
        "\n",
        "* List within another list is called nested list.\n"
      ]
    },
    {
      "cell_type": "code",
      "metadata": {
        "id": "JeqXDByPXVM2"
      },
      "source": [
        "a = [80,90]\n",
        "b = [10,20,30,a]"
      ],
      "execution_count": null,
      "outputs": []
    },
    {
      "cell_type": "code",
      "metadata": {
        "colab": {
          "base_uri": "https://localhost:8080/"
        },
        "id": "ufdtoTP2Ybyf",
        "outputId": "bbdad6dd-1166-43a7-8c8a-aa6db9fac8c5"
      },
      "source": [
        "print(b)"
      ],
      "execution_count": null,
      "outputs": [
        {
          "output_type": "stream",
          "text": [
            "[10, 20, 30, [80, 90]]\n"
          ],
          "name": "stdout"
        }
      ]
    },
    {
      "cell_type": "code",
      "metadata": {
        "colab": {
          "base_uri": "https://localhost:8080/"
        },
        "id": "v7FaM75QYddQ",
        "outputId": "115ad8f3-2020-4399-8eaa-f5d5057ed2d6"
      },
      "source": [
        "print(b[0])\n",
        "print(b[1])\n",
        "print(b[2])\n",
        "print(b[3])"
      ],
      "execution_count": null,
      "outputs": [
        {
          "output_type": "stream",
          "text": [
            "10\n",
            "20\n",
            "30\n",
            "[80, 90]\n"
          ],
          "name": "stdout"
        }
      ]
    },
    {
      "cell_type": "code",
      "metadata": {
        "colab": {
          "base_uri": "https://localhost:8080/"
        },
        "id": "rBbf5elwYpWn",
        "outputId": "e332cb7e-54d5-492e-8c05-054a25425794"
      },
      "source": [
        "for x in b[3]:\n",
        "  print(x)"
      ],
      "execution_count": null,
      "outputs": [
        {
          "output_type": "stream",
          "text": [
            "80\n",
            "90\n"
          ],
          "name": "stdout"
        }
      ]
    },
    {
      "cell_type": "code",
      "metadata": {
        "colab": {
          "base_uri": "https://localhost:8080/"
        },
        "id": "HhBJUlmBYubV",
        "outputId": "fe858493-93be-4406-c5a0-e63b42a1d314"
      },
      "source": [
        "#write a python Program to create a nested list and display its elements.\n",
        "\n",
        "lst=[10,20,30,[80,90]]\n",
        "print('Total list=',lst)\n",
        "print('First element=',lst[0])\n",
        "print('Last element is nested list= ',lst[3])\n",
        "for x in lst[3]:\n",
        "  print(x)"
      ],
      "execution_count": null,
      "outputs": [
        {
          "output_type": "stream",
          "text": [
            "Total list= [10, 20, 30, [80, 90]]\n",
            "First element= 10\n",
            "Last element is nested list=  [80, 90]\n",
            "80\n",
            "90\n"
          ],
          "name": "stdout"
        }
      ]
    },
    {
      "cell_type": "markdown",
      "metadata": {
        "id": "-Q-VRPYxaTQI"
      },
      "source": [
        "###Nested list as Matrices\n",
        "\n",
        "* suppose we want to create a matrix with 3 rows and 3 columns, we should create a list with 3 other list as:"
      ]
    },
    {
      "cell_type": "code",
      "metadata": {
        "id": "MrNMrlm-Zmz6"
      },
      "source": [
        "mat = [[1,2,3],[4,5,6],[7,8,9]]"
      ],
      "execution_count": null,
      "outputs": []
    },
    {
      "cell_type": "code",
      "metadata": {
        "colab": {
          "base_uri": "https://localhost:8080/"
        },
        "id": "7-wubGKaa_Aa",
        "outputId": "726f3f1d-fd33-45f6-d834-513a04ca8d7b"
      },
      "source": [
        "#retrive the elements from mat \n",
        "for r in mat:\n",
        "  print(r)"
      ],
      "execution_count": null,
      "outputs": [
        {
          "output_type": "stream",
          "text": [
            "[1, 2, 3]\n",
            "[4, 5, 6]\n",
            "[7, 8, 9]\n"
          ],
          "name": "stdout"
        }
      ]
    },
    {
      "cell_type": "code",
      "metadata": {
        "colab": {
          "base_uri": "https://localhost:8080/"
        },
        "id": "rwIZ8FSLbF40",
        "outputId": "7a248254-c9e0-4b42-e20c-5b189817a6b7"
      },
      "source": [
        "#retrive columns, we need another for loop inside the previous loop, as\n",
        "\n",
        "for r in mat:\n",
        "  for c in r:\n",
        "    print(c,end= ' ')\n",
        "\n",
        "  print()"
      ],
      "execution_count": null,
      "outputs": [
        {
          "output_type": "stream",
          "text": [
            "1 2 3 \n",
            "4 5 6 \n",
            "7 8 9 \n"
          ],
          "name": "stdout"
        }
      ]
    },
    {
      "cell_type": "code",
      "metadata": {
        "colab": {
          "base_uri": "https://localhost:8080/"
        },
        "id": "dc8iXj1BblSp",
        "outputId": "32ac4c16-9371-49f4-a50c-663307e6a654"
      },
      "source": [
        "#Write a python Program to display of matrix using indexing \n",
        "\n",
        "for i in range(len(mat)):\n",
        "  for j in range(len(mat[i])):\n",
        "    print('%d' %mat[i][j],end= ' ')\n",
        "  print()"
      ],
      "execution_count": null,
      "outputs": [
        {
          "output_type": "stream",
          "text": [
            "1 2 3 \n",
            "4 5 6 \n",
            "7 8 9 \n"
          ],
          "name": "stdout"
        }
      ]
    },
    {
      "cell_type": "code",
      "metadata": {
        "colab": {
          "base_uri": "https://localhost:8080/"
        },
        "id": "IYRL6Tdycu3i",
        "outputId": "c024e8d7-825e-4adc-837e-9da3bc516a62"
      },
      "source": [
        "#write a python Program to retrive elements from a matrix and display them\n",
        "\n",
        "#display nested list as a matrix\n",
        "\n",
        "mat=[[1,2,3],[4,5,6],[7,8,9]]\n",
        "print('Display the list as it is: ')\n",
        "print(mat)\n",
        "\n",
        "print('Display row by row')\n",
        "for r in mat:\n",
        "  print(r)\n",
        "\n",
        "print('Display each column in row 0:')\n",
        "for c in mat[0]:\n",
        "  print('%d' %c, end='')\n",
        "\n",
        "print('Display each column in row 1:')\n",
        "for c in mat[1]:\n",
        "  print('%d' %c, end='')\n",
        "\n",
        "print('Display each column in row 2:')\n",
        "for c in mat[2]:\n",
        "  print('%d' %c, end='')\n",
        "\n",
        "print('Display all elements using for')\n",
        "for r in mat:\n",
        "  for c in r:\n",
        "    print(c, end =\"\")\n",
        "print()\n",
        "\n",
        "print('All the elements using for:')\n",
        "for i in range(len(mat)):\n",
        "  for j in range(len(mat[i])):\n",
        "    print('%d' %mat[i][j],end='')\n",
        "  print()\n"
      ],
      "execution_count": null,
      "outputs": [
        {
          "output_type": "stream",
          "text": [
            "Display the list as it is: \n",
            "[[1, 2, 3], [4, 5, 6], [7, 8, 9]]\n",
            "Display row by row\n",
            "[1, 2, 3]\n",
            "[4, 5, 6]\n",
            "[7, 8, 9]\n",
            "Display each column in row 0:\n",
            "123Display each column in row 1:\n",
            "456Display each column in row 2:\n",
            "789Display all elements using for\n",
            "123456789\n",
            "All the elements using for:\n",
            "123\n",
            "456\n",
            "789\n"
          ],
          "name": "stdout"
        }
      ]
    },
    {
      "cell_type": "code",
      "metadata": {
        "colab": {
          "base_uri": "https://localhost:8080/"
        },
        "id": "-gUz1FaHjGQ9",
        "outputId": "7449e291-528c-4698-ca4c-06fa720e0c19"
      },
      "source": [
        "#Write a Python program to add two matrix and display the sum matrix using list.\n",
        "\n",
        "m1= [[1,2,3,0],\n",
        "    [4,5,6,0],\n",
        "    [7,8,9,0] ]\n",
        "\n",
        "m2 = [[1,2,3,4],\n",
        "      [1,0,1,0],\n",
        "      [2,-i,-2,i]]\n",
        "\n",
        "m3 = [4*[0] for i in range(3)]\n",
        "\n",
        "for i in range(3):\n",
        "  for j in range(4):\n",
        "    m3[i][j]=m1[i][j]+m2[i][j]\n",
        "\n",
        "for i in range(3):\n",
        "  for j in range(4):\n",
        "    print('%d'%m3[i][j], end= ' ')\n",
        "\n",
        "  print()"
      ],
      "execution_count": null,
      "outputs": [
        {
          "output_type": "stream",
          "text": [
            "2 4 6 4 \n",
            "5 5 7 0 \n",
            "9 6 7 2 \n"
          ],
          "name": "stdout"
        }
      ]
    },
    {
      "cell_type": "markdown",
      "metadata": {
        "id": "ELQPbyjBpE84"
      },
      "source": [
        "###List Comprehensions\n",
        "\n",
        "* List Comprehension represent creation of new lists from an iterable object (like list, tuple, set,dictonary or range) that satisfy a given condition.\n",
        "\n",
        "* List comprehension contains very compact code usually a single statement that perform a task."
      ]
    },
    {
      "cell_type": "code",
      "metadata": {
        "colab": {
          "base_uri": "https://localhost:8080/"
        },
        "id": "479a3_RqoP-x",
        "outputId": "ecf067f5-7b57-40af-d126-387e080109e8"
      },
      "source": [
        "#write a python program to create a list with square of integer from 1 to 10.\n",
        "\n",
        "#regular way\n",
        "square = []\n",
        "for x in range(1,11):\n",
        "  square.append(x**2)\n",
        "\n",
        "print(square)"
      ],
      "execution_count": null,
      "outputs": [
        {
          "output_type": "stream",
          "text": [
            "[1, 4, 9, 16, 25, 36, 49, 64, 81, 100]\n"
          ],
          "name": "stdout"
        }
      ]
    },
    {
      "cell_type": "code",
      "metadata": {
        "colab": {
          "base_uri": "https://localhost:8080/"
        },
        "id": "DvYAn71lqN1T",
        "outputId": "02421d68-7600-4abf-ab86-d97a58ec8e84"
      },
      "source": [
        "# using list Comprehensions\n",
        "square = [x**2 for x in range(1,11)]\n",
        "square"
      ],
      "execution_count": null,
      "outputs": [
        {
          "output_type": "execute_result",
          "data": {
            "text/plain": [
              "[1, 4, 9, 16, 25, 36, 49, 64, 81, 100]"
            ]
          },
          "metadata": {
            "tags": []
          },
          "execution_count": 28
        }
      ]
    },
    {
      "cell_type": "code",
      "metadata": {
        "colab": {
          "base_uri": "https://localhost:8080/"
        },
        "id": "aVY2GBCWsC7C",
        "outputId": "321e9450-65eb-42f8-caef-4f3fe11a3520"
      },
      "source": [
        "even_square = [x**2 for x in range(1,11) if x%2==0]\n",
        "print(even_square)"
      ],
      "execution_count": null,
      "outputs": [
        {
          "output_type": "stream",
          "text": [
            "[4, 16, 36, 64, 100]\n"
          ],
          "name": "stdout"
        }
      ]
    },
    {
      "cell_type": "code",
      "metadata": {
        "colab": {
          "base_uri": "https://localhost:8080/"
        },
        "id": "KbjgSx3xsje3",
        "outputId": "9a8effce-764b-4e99-e083-deda9741ef4e"
      },
      "source": [
        "# adding two list using list compresion\n",
        "x = [10,20,30]\n",
        "y = [1,2,3,4]\n",
        "\n",
        "lst = [i+j for i in x for j in y]\n",
        "print(lst)"
      ],
      "execution_count": null,
      "outputs": [
        {
          "output_type": "stream",
          "text": [
            "[11, 12, 13, 14, 21, 22, 23, 24, 31, 32, 33, 34]\n"
          ],
          "name": "stdout"
        }
      ]
    },
    {
      "cell_type": "code",
      "metadata": {
        "colab": {
          "base_uri": "https://localhost:8080/"
        },
        "id": "vPcF1GpBtCdV",
        "outputId": "b43d751c-7a59-4b8e-98f7-93a6a58e47e3"
      },
      "source": [
        "#directly mentioning list\n",
        "lst = [i+j for i in [10,20,30] for j in [1,2,3,4]]\n",
        "print(lst)"
      ],
      "execution_count": null,
      "outputs": [
        {
          "output_type": "stream",
          "text": [
            "[11, 12, 13, 14, 21, 22, 23, 24, 31, 32, 33, 34]\n"
          ],
          "name": "stdout"
        }
      ]
    },
    {
      "cell_type": "code",
      "metadata": {
        "colab": {
          "base_uri": "https://localhost:8080/"
        },
        "id": "a5C_umlTtSfz",
        "outputId": "3b80f4fc-09e6-418a-8cc0-e823c5c2434c"
      },
      "source": [
        "#previous list compresion can be written as\n",
        "lst = [i+j for i in 'ABC' for j in 'DE']\n",
        "print(lst)"
      ],
      "execution_count": null,
      "outputs": [
        {
          "output_type": "stream",
          "text": [
            "['AD', 'AE', 'BD', 'BE', 'CD', 'CE']\n"
          ],
          "name": "stdout"
        }
      ]
    },
    {
      "cell_type": "code",
      "metadata": {
        "colab": {
          "base_uri": "https://localhost:8080/"
        },
        "id": "vzBL5mRjtncg",
        "outputId": "394a2702-5199-43fd-9a14-0e65757f28d8"
      },
      "source": [
        "#lets take a list 'word' that contains a group of words or strings as\n",
        "\n",
        "words = ['Apple','Grapes','Banana','Orange']\n",
        "lst = []\n",
        "for w in words:\n",
        "  lst.append(w[0])\n",
        "\n",
        "print(lst)"
      ],
      "execution_count": null,
      "outputs": [
        {
          "output_type": "stream",
          "text": [
            "['A', 'G', 'B', 'O']\n"
          ],
          "name": "stdout"
        }
      ]
    },
    {
      "cell_type": "code",
      "metadata": {
        "colab": {
          "base_uri": "https://localhost:8080/"
        },
        "id": "ipxDsUV8uhOJ",
        "outputId": "f9117945-f459-4288-972e-9e5c11d153d6"
      },
      "source": [
        "#lets take two list 'num1' and 'num2' with some numbers as.\n",
        "\n",
        "num1 = [1,2,3,4,5]\n",
        "num2 =[10,11,1,2]\n",
        "\n",
        "num3 = []\n",
        "for i in num1:\n",
        "  if i not in num2:\n",
        "    num3.append(i)\n",
        "\n",
        "print(num3)"
      ],
      "execution_count": null,
      "outputs": [
        {
          "output_type": "stream",
          "text": [
            "[3, 4, 5]\n"
          ],
          "name": "stdout"
        }
      ]
    },
    {
      "cell_type": "code",
      "metadata": {
        "colab": {
          "base_uri": "https://localhost:8080/"
        },
        "id": "tqjSaO5GvPGr",
        "outputId": "dd7bf2d0-9eee-45fb-b754-c63fb5ebef9d"
      },
      "source": [
        "#the same can be acchived \n",
        "\n",
        "num3 = [i for i in num1 if i not in num2]\n",
        "print(num3)"
      ],
      "execution_count": null,
      "outputs": [
        {
          "output_type": "stream",
          "text": [
            "[3, 4, 5]\n"
          ],
          "name": "stdout"
        }
      ]
    },
    {
      "source": [
        "## Points to Remember\n",
        "\n",
        "* A List is similar to an array but a list can store different types of elements, where an array can store only one type of elements.\n",
        "* it is possible to create a list using a range function. This returns an iterable object whose element form a sequence another function to creat a list is list() functions.\n",
        "* Any sequence (string, list tuple, dictonaries) follow some operations like slicing, indexing, finding length, using len() function, concatinantion, repetation, membership and iteration operations.\n",
        "* List are mutable. that means it is possible to modify or make changes in a list"
      ],
      "cell_type": "markdown",
      "metadata": {}
    }
  ]
}