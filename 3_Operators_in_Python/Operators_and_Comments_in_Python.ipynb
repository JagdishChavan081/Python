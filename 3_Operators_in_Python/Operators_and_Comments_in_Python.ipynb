{
  "nbformat": 4,
  "nbformat_minor": 0,
  "metadata": {
    "colab": {
      "name": "Operators and Comments in Python.ipynb",
      "provenance": [],
      "collapsed_sections": []
    },
    "kernelspec": {
      "name": "python3",
      "display_name": "Python 3"
    }
  },
  "cells": [
    {
      "source": [
        "<center><h1>Operators & Comments in Python<h1></center>\n",
        "\n",
        "* Notes By Jagdish Chavan\n",
        "\n",
        "* For more code and Projects follow [Github]('https://github.com/JagdishChavan081')|[Linkedin]('https://www.linkedin.com/in/jagdishchavan')"
      ],
      "cell_type": "markdown",
      "metadata": {}
    },
    {
      "cell_type": "markdown",
      "metadata": {
        "id": "eNg8P9DiL_Yg"
      },
      "source": [
        "#Python Operators\n",
        "\n",
        "Operators are used to perform operations on variables and values.\n",
        "\n",
        "Python divides the operators in the following groups:\n",
        "\n",
        "\n",
        "\n",
        "*   Arithmetic operators\n",
        "*   Assignment operators\n",
        "\n",
        "*   Comparison operators\n",
        "*   Logical operators\n",
        "\n",
        "\n",
        "*   Identity operators\n",
        "*   Membership operators\n",
        "\n",
        "\n",
        "\n",
        "*   Bitwise operators\n",
        "\n",
        "\n",
        "\n",
        "\n",
        "\n",
        "\n",
        "\n",
        "\n"
      ]
    },
    {
      "cell_type": "markdown",
      "metadata": {
        "id": "mpzo-96Hawr9"
      },
      "source": [
        "PEMDAS = BODMAS\n",
        "\n",
        "<image src=\"https://study.com/cimages/multimages/16/precedence_table.png\" class=\"center\">\n",
        "\n",
        "\n",
        "\n"
      ]
    },
    {
      "cell_type": "markdown",
      "metadata": {
        "id": "tbHYuqO8MoF4"
      },
      "source": [
        "#Python Arithmetic Operators"
      ]
    },
    {
      "cell_type": "code",
      "metadata": {
        "id": "7Kil9Zjtu5ks",
        "colab": {
          "base_uri": "https://localhost:8080/",
          "height": 35
        },
        "outputId": "598bfe72-f7f9-4f12-dfb3-81b52648c28e"
      },
      "source": [
        "#Addition\n",
        "x = 5\n",
        "y = 3\n",
        "\n",
        "print(x + y)\n"
      ],
      "execution_count": null,
      "outputs": [
        {
          "output_type": "stream",
          "text": [
            "8\n"
          ],
          "name": "stdout"
        }
      ]
    },
    {
      "cell_type": "code",
      "metadata": {
        "id": "cK6uhjTyMypr",
        "colab": {
          "base_uri": "https://localhost:8080/",
          "height": 35
        },
        "outputId": "e9dff5da-33d5-46c7-827b-1e992882f221"
      },
      "source": [
        "#Subtraction\n",
        "\n",
        "x = 5\n",
        "y = 3\n",
        "\n",
        "print(x - y)"
      ],
      "execution_count": null,
      "outputs": [
        {
          "output_type": "stream",
          "text": [
            "2\n"
          ],
          "name": "stdout"
        }
      ]
    },
    {
      "cell_type": "code",
      "metadata": {
        "id": "__rgBPqQM7RO",
        "colab": {
          "base_uri": "https://localhost:8080/",
          "height": 35
        },
        "outputId": "f3fa67a0-3557-4a56-f470-73cd9afd2bd2"
      },
      "source": [
        "#Multiplication\n",
        "\n",
        "x = 5\n",
        "y = 3\n",
        "\n",
        "print(x * y)\n"
      ],
      "execution_count": null,
      "outputs": [
        {
          "output_type": "stream",
          "text": [
            "15\n"
          ],
          "name": "stdout"
        }
      ]
    },
    {
      "cell_type": "code",
      "metadata": {
        "id": "BvdxDh3BNBml",
        "colab": {
          "base_uri": "https://localhost:8080/",
          "height": 35
        },
        "outputId": "5a9ea077-2e4e-4f98-8607-160110c9f806"
      },
      "source": [
        "#Division\n",
        "x = 12\n",
        "y = 3\n",
        "\n",
        "print(x / y)"
      ],
      "execution_count": null,
      "outputs": [
        {
          "output_type": "stream",
          "text": [
            "4.0\n"
          ],
          "name": "stdout"
        }
      ]
    },
    {
      "cell_type": "code",
      "metadata": {
        "id": "8UlKrkA7NI-x",
        "colab": {
          "base_uri": "https://localhost:8080/",
          "height": 35
        },
        "outputId": "f39c5ea3-486e-4c98-cbdd-a36dd2e65f00"
      },
      "source": [
        "#Modulus\t(x % y)\n",
        "x = 5\n",
        "y = 2\n",
        "\n",
        "print(x % y)"
      ],
      "execution_count": null,
      "outputs": [
        {
          "output_type": "stream",
          "text": [
            "1\n"
          ],
          "name": "stdout"
        }
      ]
    },
    {
      "cell_type": "code",
      "metadata": {
        "id": "K1jMiU6XxSTS",
        "colab": {
          "base_uri": "https://localhost:8080/",
          "height": 52
        },
        "outputId": "4fd6d17b-9b0a-49d8-f9d0-f9344031ba70"
      },
      "source": [
        "#Exponentiation(x ** y)\n",
        "x = 2\n",
        "y = 5\n",
        "\n",
        "print(x ** y) #same as 2*2*2*2*2\n",
        "\n",
        "print(pow(3,2))"
      ],
      "execution_count": null,
      "outputs": [
        {
          "output_type": "stream",
          "text": [
            "32\n",
            "9\n"
          ],
          "name": "stdout"
        }
      ]
    },
    {
      "cell_type": "code",
      "metadata": {
        "id": "-RgtqMccxox-",
        "colab": {
          "base_uri": "https://localhost:8080/",
          "height": 35
        },
        "outputId": "7067fb33-4f93-45bd-fd8e-87b015c49cf8"
      },
      "source": [
        "#Floor division(x // y)\n",
        "\n",
        "x = 15\n",
        "y = 2\n",
        "\n",
        "print(x // y)\n",
        "\n",
        "#the floor division // rounds the result down to the nearest whole number\n"
      ],
      "execution_count": null,
      "outputs": [
        {
          "output_type": "stream",
          "text": [
            "7\n"
          ],
          "name": "stdout"
        }
      ]
    },
    {
      "cell_type": "markdown",
      "metadata": {
        "id": "7yecZNFXx3FB"
      },
      "source": [
        "#Python Assignment Operators\n",
        "Assignment operators are used to assign values to variables:"
      ]
    },
    {
      "cell_type": "code",
      "metadata": {
        "id": "5PMTbJOHxydw",
        "colab": {
          "base_uri": "https://localhost:8080/",
          "height": 35
        },
        "outputId": "509c6b3b-7339-41c5-e97f-539fdcd16a15"
      },
      "source": [
        "# '=',\tx = 5\n",
        "x = 5\n",
        "\n",
        "print(x)"
      ],
      "execution_count": null,
      "outputs": [
        {
          "output_type": "stream",
          "text": [
            "5\n"
          ],
          "name": "stdout"
        }
      ]
    },
    {
      "cell_type": "code",
      "metadata": {
        "id": "XyO6zOg6yEyS",
        "colab": {
          "base_uri": "https://localhost:8080/",
          "height": 35
        },
        "outputId": "f6b04236-1c17-4150-8401-a6378585a1f3"
      },
      "source": [
        "# '+=',\tx += 3,\tx = x + 3\n",
        "x = 5\n",
        "\n",
        "x = x+3\n",
        "\n",
        "x += 3\n",
        "\n",
        "print(x)"
      ],
      "execution_count": null,
      "outputs": [
        {
          "output_type": "stream",
          "text": [
            "11\n"
          ],
          "name": "stdout"
        }
      ]
    },
    {
      "cell_type": "code",
      "metadata": {
        "id": "9A-yKFqbyUxw",
        "colab": {
          "base_uri": "https://localhost:8080/",
          "height": 35
        },
        "outputId": "2af04962-fcfb-4c7b-8fb1-64b95cfb1a41"
      },
      "source": [
        "# '-=',\tx -= 3,\tx = x - 3\n",
        "\n",
        "x = 5\n",
        "\n",
        "x -= 3\n",
        "\n",
        "print(x)"
      ],
      "execution_count": null,
      "outputs": [
        {
          "output_type": "stream",
          "text": [
            "2\n"
          ],
          "name": "stdout"
        }
      ]
    },
    {
      "cell_type": "code",
      "metadata": {
        "id": "gXb0adSuygyc",
        "colab": {
          "base_uri": "https://localhost:8080/",
          "height": 35
        },
        "outputId": "2a71b646-8eae-4865-9c35-92062776f7ac"
      },
      "source": [
        "# '*=',\tx *= 3,\tx = x * 3\n",
        "\n",
        "x = 5\n",
        "\n",
        "x *= 3\n",
        "\n",
        "print(x)\n"
      ],
      "execution_count": null,
      "outputs": [
        {
          "output_type": "stream",
          "text": [
            "15\n"
          ],
          "name": "stdout"
        }
      ]
    },
    {
      "cell_type": "code",
      "metadata": {
        "id": "g8FyuFYEytx1",
        "colab": {
          "base_uri": "https://localhost:8080/",
          "height": 35
        },
        "outputId": "8af94cb5-dcdd-47eb-ecf0-b97816a972e4"
      },
      "source": [
        "# '/=',\tx /= 3,\tx = x / 3\n",
        "\n",
        "x = 5\n",
        "\n",
        "x /= 3\n",
        "\n",
        "print(x)\n"
      ],
      "execution_count": null,
      "outputs": [
        {
          "output_type": "stream",
          "text": [
            "1.6666666666666667\n"
          ],
          "name": "stdout"
        }
      ]
    },
    {
      "cell_type": "code",
      "metadata": {
        "id": "xE1P8NfZy3uu",
        "colab": {
          "base_uri": "https://localhost:8080/",
          "height": 35
        },
        "outputId": "5e80447d-7d07-4c59-93a5-054974820747"
      },
      "source": [
        "# '%=',\tx %= 3,\tx = x % 3\n",
        "\n",
        "x = 5\n",
        "\n",
        "x%=3\n",
        "\n",
        "print(x)"
      ],
      "execution_count": null,
      "outputs": [
        {
          "output_type": "stream",
          "text": [
            "2\n"
          ],
          "name": "stdout"
        }
      ]
    },
    {
      "cell_type": "code",
      "metadata": {
        "id": "9rFDhCmbzBMA",
        "colab": {
          "base_uri": "https://localhost:8080/",
          "height": 35
        },
        "outputId": "7ad0a964-e4ab-4b90-d9d0-5b3838fb8473"
      },
      "source": [
        "# '//=',\tx //= 3,\tx = x // 3\n",
        "\n",
        "x = 5\n",
        "\n",
        "x//=3\n",
        "\n",
        "print(x)"
      ],
      "execution_count": null,
      "outputs": [
        {
          "output_type": "stream",
          "text": [
            "1\n"
          ],
          "name": "stdout"
        }
      ]
    },
    {
      "cell_type": "code",
      "metadata": {
        "id": "SyAmLBiizLjw",
        "colab": {
          "base_uri": "https://localhost:8080/",
          "height": 35
        },
        "outputId": "a858fcca-42b9-432c-e632-4f91f81f0180"
      },
      "source": [
        "# '**=',\tx **= 3,\tx = x ** 3\n",
        "\n",
        "x = 5\n",
        "\n",
        "x **= 3\n",
        "\n",
        "print(x)"
      ],
      "execution_count": null,
      "outputs": [
        {
          "output_type": "stream",
          "text": [
            "125\n"
          ],
          "name": "stdout"
        }
      ]
    },
    {
      "cell_type": "code",
      "metadata": {
        "id": "i5JYXsSJzVNI",
        "colab": {
          "base_uri": "https://localhost:8080/",
          "height": 35
        },
        "outputId": "4cc343d1-96af-404a-c082-6e5cb23cbb2c"
      },
      "source": [
        "# '&='\tx &= 3\tx = x & 3\n",
        "\n",
        "x = 5\n",
        "\n",
        "x &= 3\n",
        "\n",
        "print(x)\n"
      ],
      "execution_count": null,
      "outputs": [
        {
          "output_type": "stream",
          "text": [
            "1\n"
          ],
          "name": "stdout"
        }
      ]
    },
    {
      "cell_type": "code",
      "metadata": {
        "id": "MknprYUvzgKg",
        "colab": {
          "base_uri": "https://localhost:8080/",
          "height": 35
        },
        "outputId": "b2af3e13-4544-48e8-c395-68ab3ca2add8"
      },
      "source": [
        "# '|=',\tx |= 3,\tx = x | 3\n",
        "\n",
        "x = 5\n",
        "\n",
        "x |= 3\n",
        "\n",
        "print(x)\n"
      ],
      "execution_count": null,
      "outputs": [
        {
          "output_type": "stream",
          "text": [
            "7\n"
          ],
          "name": "stdout"
        }
      ]
    },
    {
      "cell_type": "code",
      "metadata": {
        "id": "xOL29DayzrkG",
        "colab": {
          "base_uri": "https://localhost:8080/",
          "height": 35
        },
        "outputId": "3eaebba4-0725-408d-a83a-ec417f4b4199"
      },
      "source": [
        "# '^=',\tx ^= 3,\tx = x ^ 3\n",
        "\n",
        "x = 5\n",
        "\n",
        "x ^= 3\n",
        "\n",
        "print(x)"
      ],
      "execution_count": null,
      "outputs": [
        {
          "output_type": "stream",
          "text": [
            "6\n"
          ],
          "name": "stdout"
        }
      ]
    },
    {
      "cell_type": "code",
      "metadata": {
        "id": "Ig0V-hM_z15O",
        "colab": {
          "base_uri": "https://localhost:8080/",
          "height": 35
        },
        "outputId": "fb6824e4-a91a-4fbf-9e43-6b2f2397fc89"
      },
      "source": [
        "# '>>=',\tx >>= 3,\tx = x >> 3\n",
        "\n",
        "x = 5\n",
        "\n",
        "x >>= 3\n",
        "\n",
        "print(x)\n"
      ],
      "execution_count": null,
      "outputs": [
        {
          "output_type": "stream",
          "text": [
            "0\n"
          ],
          "name": "stdout"
        }
      ]
    },
    {
      "cell_type": "code",
      "metadata": {
        "id": "OXJC-kxn0AKp",
        "colab": {
          "base_uri": "https://localhost:8080/",
          "height": 35
        },
        "outputId": "b250f1f2-81e1-4d4c-b628-395a2f732298"
      },
      "source": [
        "# '<<=',\tx <<= 3,\tx = x << 3\n",
        "\n",
        "x = 5\n",
        "\n",
        "x <<= 3\n",
        "\n",
        "print(x)"
      ],
      "execution_count": null,
      "outputs": [
        {
          "output_type": "stream",
          "text": [
            "40\n"
          ],
          "name": "stdout"
        }
      ]
    },
    {
      "cell_type": "markdown",
      "metadata": {
        "id": "sYD8SeiY0SPT"
      },
      "source": [
        "#Python Comparison Operators\n",
        "Comparison operators are used to compare two values:"
      ]
    },
    {
      "cell_type": "code",
      "metadata": {
        "id": "ZCeUpmKr0J9-",
        "colab": {
          "base_uri": "https://localhost:8080/",
          "height": 35
        },
        "outputId": "8114a446-0f36-44d8-b922-688168efb412"
      },
      "source": [
        "#Equal(==)\n",
        "x = 5\n",
        "y = 3\n",
        "\n",
        "print(x == y)"
      ],
      "execution_count": null,
      "outputs": [
        {
          "output_type": "stream",
          "text": [
            "False\n"
          ],
          "name": "stdout"
        }
      ]
    },
    {
      "cell_type": "code",
      "metadata": {
        "id": "H1NwbJ4I0fT2",
        "colab": {
          "base_uri": "https://localhost:8080/",
          "height": 35
        },
        "outputId": "435f2495-77dc-4d48-d0c2-bb4a19c86b0e"
      },
      "source": [
        "#Not equal(!=)\n",
        "x = 5\n",
        "y = 3\n",
        "\n",
        "print(x != y)"
      ],
      "execution_count": null,
      "outputs": [
        {
          "output_type": "stream",
          "text": [
            "True\n"
          ],
          "name": "stdout"
        }
      ]
    },
    {
      "cell_type": "code",
      "metadata": {
        "id": "3vVUieQL0phC",
        "colab": {
          "base_uri": "https://localhost:8080/",
          "height": 35
        },
        "outputId": "007007d6-9234-475d-a4c2-1427aad262d3"
      },
      "source": [
        "#Greater than(>)\n",
        "x = 5\n",
        "y = 3\n",
        "\n",
        "print(x > y)"
      ],
      "execution_count": null,
      "outputs": [
        {
          "output_type": "stream",
          "text": [
            "True\n"
          ],
          "name": "stdout"
        }
      ]
    },
    {
      "cell_type": "code",
      "metadata": {
        "id": "OP49pX7301Et",
        "colab": {
          "base_uri": "https://localhost:8080/",
          "height": 35
        },
        "outputId": "63e3a0ee-2d74-4afc-8286-a6f429fa6784"
      },
      "source": [
        "#Less than(<)\n",
        "x = 5\n",
        "y = 3\n",
        "\n",
        "print(x < y)"
      ],
      "execution_count": null,
      "outputs": [
        {
          "output_type": "stream",
          "text": [
            "False\n"
          ],
          "name": "stdout"
        }
      ]
    },
    {
      "cell_type": "code",
      "metadata": {
        "id": "-TJPT7CW0-iO",
        "colab": {
          "base_uri": "https://localhost:8080/",
          "height": 35
        },
        "outputId": "7a3d8ae9-de99-4200-f237-d2f6314a7ff9"
      },
      "source": [
        "#Greater than or equal to(>=)\n",
        "x = 5\n",
        "y = 3\n",
        "\n",
        "print(x >= y)"
      ],
      "execution_count": null,
      "outputs": [
        {
          "output_type": "stream",
          "text": [
            "True\n"
          ],
          "name": "stdout"
        }
      ]
    },
    {
      "cell_type": "code",
      "metadata": {
        "id": "wAN6hlpQ1LqH",
        "colab": {
          "base_uri": "https://localhost:8080/",
          "height": 35
        },
        "outputId": "1cacb57b-5b44-4f89-a52c-df6340bdfb86"
      },
      "source": [
        "#Less than or equal to(<=)\n",
        "x = 5\n",
        "y = 3\n",
        "\n",
        "print(x <= y)"
      ],
      "execution_count": null,
      "outputs": [
        {
          "output_type": "stream",
          "text": [
            "False\n"
          ],
          "name": "stdout"
        }
      ]
    },
    {
      "cell_type": "markdown",
      "metadata": {
        "id": "3UfUhkbL1XPV"
      },
      "source": [
        "#Python Logical Operators\n",
        "Logical operators are used to combine conditional statements:"
      ]
    },
    {
      "cell_type": "code",
      "metadata": {
        "id": "f6X2ajgx1TwJ",
        "colab": {
          "base_uri": "https://localhost:8080/",
          "height": 35
        },
        "outputId": "49877ffd-544a-4a8a-f198-13779a8b37bb"
      },
      "source": [
        "#and \n",
        "#Returns True if both statements are true\n",
        "x = 5\n",
        "\n",
        "print(x > 3 and x < 10)"
      ],
      "execution_count": null,
      "outputs": [
        {
          "output_type": "stream",
          "text": [
            "True\n"
          ],
          "name": "stdout"
        }
      ]
    },
    {
      "cell_type": "code",
      "metadata": {
        "id": "k7U33Xtk1iGI",
        "colab": {
          "base_uri": "https://localhost:8080/",
          "height": 35
        },
        "outputId": "4eaafbe3-ecbb-410b-b01d-e3f12c850e3e"
      },
      "source": [
        "#or\n",
        "#Returns True if one of the statements is true\n",
        "x = 5\n",
        "\n",
        "print(x > 3 or x < 4)"
      ],
      "execution_count": null,
      "outputs": [
        {
          "output_type": "stream",
          "text": [
            "True\n"
          ],
          "name": "stdout"
        }
      ]
    },
    {
      "cell_type": "code",
      "metadata": {
        "id": "HGgJIlK71qYq",
        "colab": {
          "base_uri": "https://localhost:8080/",
          "height": 35
        },
        "outputId": "d1e43853-9d46-45b4-c3c5-0aa0f322099c"
      },
      "source": [
        "#not\n",
        "#Reverse the result, returns False if the result is true\n",
        "x = 5\n",
        "\n",
        "print(not(x > 3 and x < 10))"
      ],
      "execution_count": null,
      "outputs": [
        {
          "output_type": "stream",
          "text": [
            "False\n"
          ],
          "name": "stdout"
        }
      ]
    },
    {
      "cell_type": "markdown",
      "metadata": {
        "id": "n_64FIyX10QQ"
      },
      "source": [
        "#Python Identity Operators\n",
        "Identity operators are used to compare the objects, not if they are equal, but if they are actually the same object, with the same memory location:"
      ]
    },
    {
      "cell_type": "code",
      "metadata": {
        "id": "HkBZO3t81x6e",
        "colab": {
          "base_uri": "https://localhost:8080/",
          "height": 69
        },
        "outputId": "2518c185-7288-4bdf-d42f-93da6b78ebef"
      },
      "source": [
        "#is \n",
        "#Returns True if both variables are the same object\n",
        "\n",
        "x = [\"apple\", \"banana\"]\n",
        "y = [\"apple\", \"banana\"]\n",
        "z = x\n",
        "\n",
        "print(x is z)\n",
        "\n",
        "# returns True because z is the same object as x\n",
        "\n",
        "print(x is y)\n",
        "\n",
        "# returns False because x is not the same object as y, even if they have the same content\n",
        "\n",
        "print(x == y)\n",
        "\n",
        "# to demonstrate the difference betweeen \"is\" and \"==\": this comparison returns True because x is equal to y"
      ],
      "execution_count": null,
      "outputs": [
        {
          "output_type": "stream",
          "text": [
            "True\n",
            "False\n",
            "True\n"
          ],
          "name": "stdout"
        }
      ]
    },
    {
      "cell_type": "code",
      "metadata": {
        "id": "5uadgA4s2Ku4",
        "colab": {
          "base_uri": "https://localhost:8080/",
          "height": 69
        },
        "outputId": "55814bc7-5a3f-46f7-ce54-7cfa428d36dd"
      },
      "source": [
        "#is not\n",
        "#Returns True if both variables are not the same object\n",
        "x = [\"apple\", \"banana\"]\n",
        "y = [\"apple\", \"banana\"]\n",
        "z = x\n",
        "\n",
        "print(x is not z)\n",
        "\n",
        "# returns False because z is the same object as x\n",
        "\n",
        "print(x is not y)\n",
        "\n",
        "# returns True because x is not the same object as y, even if they have the same content\n",
        "\n",
        "print(x != y)\n",
        "\n",
        "# to demonstrate the difference betweeen \"is not\" and \"!=\": this comparison returns False because x is equal to y\n"
      ],
      "execution_count": null,
      "outputs": [
        {
          "output_type": "stream",
          "text": [
            "False\n",
            "True\n",
            "False\n"
          ],
          "name": "stdout"
        }
      ]
    },
    {
      "cell_type": "markdown",
      "metadata": {
        "id": "aBmn6q912a_o"
      },
      "source": [
        "#Python Membership Operators\n",
        "Membership operators are used to test if a sequence is presented in an object:"
      ]
    },
    {
      "cell_type": "code",
      "metadata": {
        "id": "OOMCLXjv2WYq",
        "colab": {
          "base_uri": "https://localhost:8080/",
          "height": 35
        },
        "outputId": "4a0b89c9-b19b-4a94-c9b9-45d5a6015d85"
      },
      "source": [
        "#in \n",
        "#Returns True if a sequence with the specified value is present in the object\n",
        "x = [\"apple\", \"banana\"]\n",
        "\n",
        "print(\"banana\" in x)\n",
        "\n",
        "# returns True because a sequence with the value \"banana\" is in the list"
      ],
      "execution_count": null,
      "outputs": [
        {
          "output_type": "stream",
          "text": [
            "True\n"
          ],
          "name": "stdout"
        }
      ]
    },
    {
      "cell_type": "code",
      "metadata": {
        "id": "uOIWP6X72ojL",
        "colab": {
          "base_uri": "https://localhost:8080/",
          "height": 35
        },
        "outputId": "ae6d05c9-e536-45f8-8444-d9cd716923de"
      },
      "source": [
        "#not in\n",
        "#Returns True if a sequence with the specified value is not present in the object\n",
        "x = [\"apple\", \"banana\"]\n",
        "\n",
        "print(\"pineapple\" not in x)\n",
        "\n",
        "# returns True because a sequence with the value \"pineapple\" is not in the list"
      ],
      "execution_count": null,
      "outputs": [
        {
          "output_type": "stream",
          "text": [
            "True\n"
          ],
          "name": "stdout"
        }
      ]
    },
    {
      "cell_type": "markdown",
      "metadata": {
        "id": "2fRXcGoz2zf3"
      },
      "source": [
        "#Python Bitwise Operators\n",
        "Bitwise operators are used to compare (binary) numbers:"
      ]
    },
    {
      "cell_type": "markdown",
      "metadata": {
        "id": "0F44vcy53N23"
      },
      "source": [
        "\n",
        "*   & \tAND\t Sets each bit to 1 if both bits are 1\n",
        "*   |\tOR\tSets each bit to 1 if one of two bits is 1\n",
        "\n",
        "\n",
        "\n",
        "*    ^\tXOR\tSets each bit to 1 if only one of two bits is 1\n",
        "*   ~ \tNOT\tInverts all the bits\n",
        "\n",
        "\n",
        "\n",
        "*   <<\tZero fill  left shift\tShift left by pushing zeros in from the right and let the leftmost bits fall off\n",
        "*   >>\tSigned right shift\tShift right by pushing copies of the leftmost bit in from the left, and let the rightmost bits fall off\n",
        "\n",
        "\n",
        "\n",
        "\n",
        "\n"
      ]
    },
    {
      "cell_type": "markdown",
      "metadata": {
        "id": "1lnGJhIzz5yC"
      },
      "source": [
        "## Mathematical Function\n",
        "\n",
        "* We can use built-in functions given in Python to perform various advanced operations.\n",
        "* all The advance operations like square root we can develop our own logic or use sqrt() function available in **math** module."
      ]
    },
    {
      "cell_type": "code",
      "metadata": {
        "id": "6yh0ZKo50k05"
      },
      "source": [
        "import math "
      ],
      "execution_count": null,
      "outputs": []
    },
    {
      "cell_type": "code",
      "metadata": {
        "colab": {
          "base_uri": "https://localhost:8080/"
        },
        "id": "kfQBVjQsmqVi",
        "outputId": "53abb337-a06c-4c1f-b7dd-a140c7d47e9a"
      },
      "source": [
        "from math import  sqrt\n",
        "\n",
        "x = math.sqrt(16)\n",
        "x"
      ],
      "execution_count": null,
      "outputs": [
        {
          "output_type": "execute_result",
          "data": {
            "text/plain": [
              "4.0"
            ]
          },
          "metadata": {
            "tags": []
          },
          "execution_count": 2
        }
      ]
    },
    {
      "cell_type": "code",
      "metadata": {
        "colab": {
          "base_uri": "https://localhost:8080/"
        },
        "id": "j9XFb20mnBbz",
        "outputId": "28cf291b-98c0-4235-cb15-5ea4309d3d0a"
      },
      "source": [
        "# celin(x) raises x value to nect higher integer\n",
        "x = 4.5\n",
        "y = math.ceil(x)\n",
        "y"
      ],
      "execution_count": null,
      "outputs": [
        {
          "output_type": "execute_result",
          "data": {
            "text/plain": [
              "5"
            ]
          },
          "metadata": {
            "tags": []
          },
          "execution_count": 5
        }
      ]
    },
    {
      "cell_type": "code",
      "metadata": {
        "colab": {
          "base_uri": "https://localhost:8080/"
        },
        "id": "lmh6aovrnf-7",
        "outputId": "a6f38966-5a69-4d5c-8083-be494ec8c305"
      },
      "source": [
        "#floor(x):- decreases x value to previous integer\n",
        "x = 4.5\n",
        "y = math.floor(x)\n",
        "y"
      ],
      "execution_count": null,
      "outputs": [
        {
          "output_type": "execute_result",
          "data": {
            "text/plain": [
              "4"
            ]
          },
          "metadata": {
            "tags": []
          },
          "execution_count": 7
        }
      ]
    },
    {
      "cell_type": "code",
      "metadata": {
        "colab": {
          "base_uri": "https://localhost:8080/"
        },
        "id": "iCnmV1lBn5UT",
        "outputId": "ead1e7ef-68c2-44c0-a5ed-33ac23ae9342"
      },
      "source": [
        "# degrees(x): angle radian -> degree\n",
        "x = 3.14159\n",
        "y = math.degrees(x)\n",
        "y"
      ],
      "execution_count": null,
      "outputs": [
        {
          "output_type": "execute_result",
          "data": {
            "text/plain": [
              "179.9998479605043"
            ]
          },
          "metadata": {
            "tags": []
          },
          "execution_count": 8
        }
      ]
    },
    {
      "cell_type": "code",
      "metadata": {
        "colab": {
          "base_uri": "https://localhost:8080/"
        },
        "id": "6tLNMAzaoNeN",
        "outputId": "0b18c904-48d0-4b65-e19a-d3ed4cff8638"
      },
      "source": [
        "#radians(x): degree -> radian\n",
        "x = 179.9\n",
        "y = math.radians(x)\n",
        "y"
      ],
      "execution_count": null,
      "outputs": [
        {
          "output_type": "execute_result",
          "data": {
            "text/plain": [
              "3.139847324337799"
            ]
          },
          "metadata": {
            "tags": []
          },
          "execution_count": 9
        }
      ]
    },
    {
      "cell_type": "code",
      "metadata": {
        "colab": {
          "base_uri": "https://localhost:8080/"
        },
        "id": "CdbwbcO3oinn",
        "outputId": "84b96111-ca84-45e7-d204-fd4cbb3745de"
      },
      "source": [
        "# sin(x), radians\n",
        "x = 0.5\n",
        "y = math.sin(x)\n",
        "y"
      ],
      "execution_count": null,
      "outputs": [
        {
          "output_type": "execute_result",
          "data": {
            "text/plain": [
              "0.479425538604203"
            ]
          },
          "metadata": {
            "tags": []
          },
          "execution_count": 11
        }
      ]
    },
    {
      "cell_type": "code",
      "metadata": {
        "colab": {
          "base_uri": "https://localhost:8080/"
        },
        "id": "2f71aEXRo0Mc",
        "outputId": "2b5c1bb1-f490-4a5e-c8e5-6eb8a27bbffa"
      },
      "source": [
        "#cos(x), radian\n",
        "x = 0.5\n",
        "y = math.cos(x)\n",
        "y"
      ],
      "execution_count": null,
      "outputs": [
        {
          "output_type": "execute_result",
          "data": {
            "text/plain": [
              "0.8775825618903728"
            ]
          },
          "metadata": {
            "tags": []
          },
          "execution_count": 12
        }
      ]
    },
    {
      "cell_type": "markdown",
      "metadata": {
        "id": "OsjDG34mpCeE"
      },
      "source": [
        "* tan(x)\n",
        "* exponent->exp(x)\n",
        "* absolute value ->fabs(x)\n",
        "* factorial->factorial(x)\n",
        "* fmod(x,y)\n",
        "* fsum(x,y)\n",
        "* modf(x)\n",
        "* log10(x)\n",
        "* log[x,[,base]\n",
        "* sqrt(x)\n",
        "* pow(x,y)\n",
        "* gcd(x,y)\n",
        "* trunc(x)\n",
        "* isinf(x)\n",
        "* isnan(x)"
      ]
    },
    {
      "cell_type": "code",
      "metadata": {
        "colab": {
          "base_uri": "https://localhost:8080/"
        },
        "id": "KyMStH7Po_d6",
        "outputId": "02f78c0c-3800-4147-ab49-c9edfdd64d75"
      },
      "source": [
        "import math\n",
        "x = math.pi\n",
        "x"
      ],
      "execution_count": null,
      "outputs": [
        {
          "output_type": "execute_result",
          "data": {
            "text/plain": [
              "3.141592653589793"
            ]
          },
          "metadata": {
            "tags": []
          },
          "execution_count": 15
        }
      ]
    },
    {
      "cell_type": "code",
      "metadata": {
        "colab": {
          "base_uri": "https://localhost:8080/"
        },
        "id": "PsLRoCwLqcX-",
        "outputId": "393181a6-c211-4549-9ccb-fceb2c154cd5"
      },
      "source": [
        "import math\n",
        "x = math.e\n",
        "x"
      ],
      "execution_count": null,
      "outputs": [
        {
          "output_type": "execute_result",
          "data": {
            "text/plain": [
              "2.718281828459045"
            ]
          },
          "metadata": {
            "tags": []
          },
          "execution_count": 16
        }
      ]
    },
    {
      "cell_type": "code",
      "metadata": {
        "colab": {
          "base_uri": "https://localhost:8080/"
        },
        "id": "1T2H_jdUqnwS",
        "outputId": "58369bb7-5d3a-4938-f463-7f7735fb227a"
      },
      "source": [
        "import math\n",
        "x = math.inf\n",
        "print(x)"
      ],
      "execution_count": null,
      "outputs": [
        {
          "output_type": "stream",
          "text": [
            "inf\n"
          ],
          "name": "stdout"
        }
      ]
    },
    {
      "cell_type": "code",
      "metadata": {
        "colab": {
          "base_uri": "https://localhost:8080/"
        },
        "id": "9GFE9q14qwU3",
        "outputId": "8113488e-7c9f-46f0-910d-27eaa6d222d3"
      },
      "source": [
        "import math\n",
        "x = -math.inf\n",
        "print(x)"
      ],
      "execution_count": null,
      "outputs": [
        {
          "output_type": "stream",
          "text": [
            "-inf\n"
          ],
          "name": "stdout"
        }
      ]
    },
    {
      "cell_type": "code",
      "metadata": {
        "colab": {
          "base_uri": "https://localhost:8080/"
        },
        "id": "S3SY8JtlrPQ0",
        "outputId": "56f67d34-0d8f-41c4-8657-0cfc24bd533e"
      },
      "source": [
        "import math\n",
        "x = math.nan\n",
        "print(x)"
      ],
      "execution_count": null,
      "outputs": [
        {
          "output_type": "stream",
          "text": [
            "nan\n"
          ],
          "name": "stdout"
        }
      ]
    },
    {
      "cell_type": "code",
      "metadata": {
        "id": "ZAVgQMRXrXja"
      },
      "source": [
        "1095, 1055, 1065\n",
        "\n",
        "1005, 1015, 1025"
      ],
      "execution_count": null,
      "outputs": []
    }
  ]
}